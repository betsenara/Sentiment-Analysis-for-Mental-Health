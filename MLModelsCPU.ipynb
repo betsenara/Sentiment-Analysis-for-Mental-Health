{
 "cells": [
  {
   "cell_type": "code",
   "execution_count": 236,
   "id": "8fb4e807-6edc-4860-9e97-015521c07dd4",
   "metadata": {},
   "outputs": [],
   "source": [
    "import pandas as pd\n",
    "import numpy as np\n",
    "from sklearn.model_selection import train_test_split, GridSearchCV, StratifiedKFold, cross_val_score, KFold\n",
    "from sklearn.feature_extraction.text import TfidfVectorizer, CountVectorizer\n",
    "from sklearn.feature_selection import SelectKBest, chi2\n",
    "from sklearn.linear_model import LogisticRegression\n",
    "from sklearn.naive_bayes import MultinomialNB\n",
    "from sklearn.ensemble import RandomForestClassifier, VotingClassifier, StackingClassifier\n",
    "from sklearn.svm import SVC, LinearSVC\n",
    "import xgboost as xgb\n",
    "from xgboost import XGBClassifier\n",
    "from sklearn.metrics import accuracy_score, classification_report, confusion_matrix\n",
    "from sklearn.preprocessing import LabelEncoder\n",
    "from imblearn.over_sampling import SMOTE\n",
    "import matplotlib.pyplot as plt\n",
    "import seaborn as sns\n",
    "import plotly.express as px\n",
    "from scipy.sparse import hstack\n",
    "import joblib"
   ]
  },
  {
   "cell_type": "code",
   "execution_count": 28,
   "id": "28133870-68bc-4f1c-9ed7-1b6814d2abb5",
   "metadata": {},
   "outputs": [],
   "source": [
    "# read data\n",
    "data = pd.read_csv('data_clean.csv', encoding='latin-1')"
   ]
  },
  {
   "cell_type": "code",
   "execution_count": 30,
   "id": "be33182e-c5d3-4d49-a5b8-85ac65c1c7de",
   "metadata": {},
   "outputs": [],
   "source": [
    "encoder = LabelEncoder()\n",
    "data.loc[:, 'status_encoded'] = encoder.fit_transform(data['status'])"
   ]
  },
  {
   "cell_type": "code",
   "execution_count": 32,
   "id": "9e7d6c53-1792-4f48-bd5d-48bb57d7ed6f",
   "metadata": {},
   "outputs": [
    {
     "name": "stdout",
     "output_type": "stream",
     "text": [
      "Category mapping: {'Anxiety': 0, 'Bipolar': 1, 'Depression': 2, 'Normal': 3, 'Personality disorder': 4, 'Stress': 5, 'Suicidal': 6}\n"
     ]
    }
   ],
   "source": [
    "class_names = encoder.classes_\n",
    "category_mapping = dict(zip(class_names, range(len(class_names))))\n",
    "\n",
    "print(\"Category mapping:\", category_mapping)"
   ]
  },
  {
   "cell_type": "markdown",
   "id": "5b31a947-a4c0-4874-8781-0ee85a23d80c",
   "metadata": {},
   "source": [
    "Add a feature which is the number of words in stemmed data:"
   ]
  },
  {
   "cell_type": "code",
   "execution_count": 38,
   "id": "1490daf4-24ef-4ca9-bba1-4837dd396d15",
   "metadata": {},
   "outputs": [],
   "source": [
    "data['stemmed word count'] = data['stemmed'].apply(len)"
   ]
  },
  {
   "cell_type": "markdown",
   "id": "d676f04a-4b3a-4244-afd7-9220b436d120",
   "metadata": {},
   "source": [
    "## Train Test Splitting"
   ]
  },
  {
   "cell_type": "code",
   "execution_count": 80,
   "id": "6e18e5f7-1207-47ac-9735-ae24853e2059",
   "metadata": {},
   "outputs": [],
   "source": [
    "X_train, X_test, y_train, y_test = train_test_split(data[['statement','stemmed','stemmed word count','lemmatized']], data['status_encoded'], test_size=0.2, random_state=42,stratify = data['status_encoded'])"
   ]
  },
  {
   "cell_type": "markdown",
   "id": "b7cbe41e-3d32-47b2-a18b-e9e0cef77a5f",
   "metadata": {},
   "source": [
    "## TF-IDF Vectorization"
   ]
  },
  {
   "cell_type": "code",
   "execution_count": 42,
   "id": "62e6beb3-0f2c-4020-a383-54d11a9c5524",
   "metadata": {},
   "outputs": [
    {
     "name": "stdout",
     "output_type": "stream",
     "text": [
      "X_train_tfidf shape:  (38599, 5000)\n",
      "X_test_tfidf shape:  (9650, 5000)\n"
     ]
    }
   ],
   "source": [
    "tfidf = TfidfVectorizer(max_features=5000, ngram_range=(1, 2),min_df=10, stop_words='english')\n",
    "X_train_tfidf = tfidf.fit_transform(X_train['stemmed'])\n",
    "X_test_tfidf = tfidf.transform(X_test['stemmed'])\n",
    "\n",
    "print('X_train_tfidf shape: ', X_train_tfidf.shape)\n",
    "print('X_test_tfidf shape: ', X_test_tfidf.shape)"
   ]
  },
  {
   "cell_type": "markdown",
   "id": "4a37a918-3e29-45e9-bb16-b85e05527b79",
   "metadata": {},
   "source": [
    "## Logistic Regression"
   ]
  },
  {
   "cell_type": "code",
   "execution_count": 66,
   "id": "358349f8-c9bd-451c-ba0a-54e8c0bb26c5",
   "metadata": {},
   "outputs": [
    {
     "name": "stdout",
     "output_type": "stream",
     "text": [
      "Training Accuracy for Logistic regression with TFIDF:  0.8104\n",
      "Test Accuracy for Logistic regression with TFIDF:  0.7467\n"
     ]
    }
   ],
   "source": [
    "log_reg_tfidf = LogisticRegression(solver='lbfgs', max_iter=10000)\n",
    "log_reg_tfidf.fit(X_train_tfidf, y_train)\n",
    "\n",
    "y_pred = log_reg_tfidf.predict(X_test_tfidf)\n",
    "y_pred_train = log_reg_tfidf.predict(X_train_tfidf)\n",
    "print('Training Accuracy for Logistic regression with TFIDF: ', round(accuracy_score(y_train, y_pred_train),4))\n",
    "print('Test Accuracy for Logistic regression with TFIDF: ', round(accuracy_score(y_test, y_pred),4))"
   ]
  },
  {
   "cell_type": "markdown",
   "id": "3e058789-b53e-4dc9-8293-de00976d44a7",
   "metadata": {},
   "source": [
    "## Combining TFIDF Features With Word Count Feature"
   ]
  },
  {
   "cell_type": "code",
   "execution_count": 44,
   "id": "18377053-45e7-4cca-8c6f-716beb89636d",
   "metadata": {},
   "outputs": [
    {
     "name": "stdout",
     "output_type": "stream",
     "text": [
      "X_train_combined shape:  (38599, 5001)\n",
      "X_test_combined shape:  (9650, 5001)\n"
     ]
    }
   ],
   "source": [
    "# Ensure 'stemmed word count' is reshaped as a 2D array and convert it to sparse format\n",
    "X_train_word_count = X_train[['stemmed word count']].values\n",
    "X_test_word_count = X_test[['stemmed word count']].values\n",
    "\n",
    "# Combine TF-IDF features with the stemmed word count feature\n",
    "X_train_combined = hstack([X_train_tfidf, X_train_word_count])\n",
    "X_test_combined = hstack([X_test_tfidf, X_test_word_count])\n",
    "\n",
    "print('X_train_combined shape: ', X_train_combined.shape)\n",
    "print('X_test_combined shape: ', X_test_combined.shape)"
   ]
  },
  {
   "cell_type": "markdown",
   "id": "e07cf16f-108c-4a69-b244-5b0b6f6851a2",
   "metadata": {},
   "source": [
    "## XGBoost Classifier"
   ]
  },
  {
   "cell_type": "code",
   "execution_count": 70,
   "id": "59311330-7175-4e55-93a4-6d9f85446a2a",
   "metadata": {},
   "outputs": [
    {
     "name": "stdout",
     "output_type": "stream",
     "text": [
      "Test Accuracy with XGBoost: 0.7579\n",
      "Training Accuracy with XGBoost: 0.9930\n"
     ]
    }
   ],
   "source": [
    "# Initialize XGBoost classifier\n",
    "xgb_clf = xgb.XGBClassifier(learning_rate=0.5, max_depth=7, n_estimators=500, random_state=101, n_jobs=20)\n",
    "xgb_clf.fit(X_train_combined, y_train)\n",
    "# Predict on the test set\n",
    "y_pred = xgb_clf.predict(X_test_combined)\n",
    "y_pred_train = xgb_clf.predict(X_train_combined)\n",
    "# Print test accuracy\n",
    "print('Test Accuracy with XGBoost: {:.4f}'.format(accuracy_score(y_test, y_pred)))\n",
    "# Print training accuracy\n",
    "print('Training Accuracy with XGBoost: {:.4f}'.format(accuracy_score(y_train, y_pred_train)))"
   ]
  },
  {
   "cell_type": "markdown",
   "id": "767ecad9-053e-4d20-95a9-6bef6fa115d6",
   "metadata": {},
   "source": [
    "\r\n",
    "This model is overfitting. To address this, we will reduce the hyperparameters: learning rate, max depth, and the number of estimators to help prevent the model from overfitting the training data."
   ]
  },
  {
   "cell_type": "code",
   "execution_count": 73,
   "id": "1e861fe2-b57b-44d2-8236-a15f7cba62cb",
   "metadata": {},
   "outputs": [
    {
     "name": "stdout",
     "output_type": "stream",
     "text": [
      "Test Accuracy with XGBoost: 0.7531\n",
      "Training Accuracy with XGBoost: 0.8180\n"
     ]
    }
   ],
   "source": [
    "# Initialize XGBoost classifier\n",
    "xgb_clf = xgb.XGBClassifier(learning_rate=0.1, max_depth=4, n_estimators=300, random_state=101, n_jobs=20)\n",
    "xgb_clf.fit(X_train_combined, y_train)\n",
    "# Predict on the test set\n",
    "y_pred = xgb_clf.predict(X_test_combined)\n",
    "y_pred_train = xgb_clf.predict(X_train_combined)\n",
    "# Print test accuracy\n",
    "print('Test Accuracy with XGBoost: {:.4f}'.format(accuracy_score(y_test, y_pred)))\n",
    "# Print training accuracy\n",
    "print('Training Accuracy with XGBoost: {:.4f}'.format(accuracy_score(y_train, y_pred_train)))"
   ]
  },
  {
   "cell_type": "markdown",
   "id": "c074f6ec-70f8-4dad-b9b0-9cc83b0f3b9c",
   "metadata": {},
   "source": [
    "## Logistic Regression with Combined Data"
   ]
  },
  {
   "cell_type": "code",
   "execution_count": 77,
   "id": "3193e1e5-dc1d-4fc7-ab62-9c5407e3baf2",
   "metadata": {},
   "outputs": [
    {
     "name": "stdout",
     "output_type": "stream",
     "text": [
      "Training Accuracy for Logistic regression with TFIDF:  0.7985\n",
      "Test Accuracy for Logistic regression with TFIDF:  0.7396\n",
      "              precision    recall  f1-score   support\n",
      "\n",
      "           0       0.79      0.80      0.80       714\n",
      "           1       0.72      0.79      0.75       500\n",
      "           2       0.79      0.61      0.68      2971\n",
      "           3       0.86      0.89      0.88      2718\n",
      "           4       0.42      0.74      0.54       179\n",
      "           5       0.45      0.68      0.54       458\n",
      "           6       0.66      0.71      0.68      2110\n",
      "\n",
      "    accuracy                           0.74      9650\n",
      "   macro avg       0.67      0.74      0.70      9650\n",
      "weighted avg       0.75      0.74      0.74      9650\n",
      "\n"
     ]
    },
    {
     "name": "stderr",
     "output_type": "stream",
     "text": [
      "C:\\Users\\Betul\\anaconda3\\Lib\\site-packages\\sklearn\\linear_model\\_logistic.py:469: ConvergenceWarning: lbfgs failed to converge (status=1):\n",
      "STOP: TOTAL NO. of ITERATIONS REACHED LIMIT.\n",
      "\n",
      "Increase the number of iterations (max_iter) or scale the data as shown in:\n",
      "    https://scikit-learn.org/stable/modules/preprocessing.html\n",
      "Please also refer to the documentation for alternative solver options:\n",
      "    https://scikit-learn.org/stable/modules/linear_model.html#logistic-regression\n",
      "  n_iter_i = _check_optimize_result(\n"
     ]
    }
   ],
   "source": [
    "log_reg_tfidf = LogisticRegression(solver='lbfgs',class_weight='balanced', max_iter=10000)\n",
    "log_reg_tfidf.fit(X_train_combined, y_train)\n",
    "\n",
    "y_pred = log_reg_tfidf.predict(X_test_combined)\n",
    "y_pred_train = log_reg_tfidf.predict(X_train_combined)\n",
    "print('Training Accuracy for Logistic regression with TFIDF: ', round(accuracy_score(y_train, y_pred_train),4))\n",
    "print('Test Accuracy for Logistic regression with TFIDF: ', round(accuracy_score(y_test, y_pred),4))\n",
    "print(classification_report(y_test, y_pred))"
   ]
  },
  {
   "cell_type": "markdown",
   "id": "2508709a-df8e-40d5-8279-23fd3ae64ec3",
   "metadata": {},
   "source": [
    "## Hyperparamter Tuning for Five Models: Logistic Regression, LinearSVC, Naive Bayes, Random Forest Classifier and XGBoost Classifier"
   ]
  },
  {
   "cell_type": "code",
   "execution_count": 45,
   "id": "16a10970-ee46-4cc0-bfca-5de744512c3c",
   "metadata": {},
   "outputs": [
    {
     "name": "stdout",
     "output_type": "stream",
     "text": [
      "Fitting 3 folds for each of 2 candidates, totalling 6 fits\n"
     ]
    },
    {
     "name": "stderr",
     "output_type": "stream",
     "text": [
      "C:\\Users\\Betul\\anaconda3\\Lib\\site-packages\\sklearn\\linear_model\\_logistic.py:469: ConvergenceWarning: lbfgs failed to converge (status=1):\n",
      "STOP: TOTAL NO. of ITERATIONS REACHED LIMIT.\n",
      "\n",
      "Increase the number of iterations (max_iter) or scale the data as shown in:\n",
      "    https://scikit-learn.org/stable/modules/preprocessing.html\n",
      "Please also refer to the documentation for alternative solver options:\n",
      "    https://scikit-learn.org/stable/modules/linear_model.html#logistic-regression\n",
      "  n_iter_i = _check_optimize_result(\n"
     ]
    },
    {
     "name": "stdout",
     "output_type": "stream",
     "text": [
      "Best Parameters for LogisticRegression: {'solver': 'lbfgs'}\n"
     ]
    },
    {
     "name": "stderr",
     "output_type": "stream",
     "text": [
      "C:\\Users\\Betul\\anaconda3\\Lib\\site-packages\\sklearn\\linear_model\\_logistic.py:469: ConvergenceWarning: lbfgs failed to converge (status=1):\n",
      "STOP: TOTAL NO. of ITERATIONS REACHED LIMIT.\n",
      "\n",
      "Increase the number of iterations (max_iter) or scale the data as shown in:\n",
      "    https://scikit-learn.org/stable/modules/preprocessing.html\n",
      "Please also refer to the documentation for alternative solver options:\n",
      "    https://scikit-learn.org/stable/modules/linear_model.html#logistic-regression\n",
      "  n_iter_i = _check_optimize_result(\n"
     ]
    },
    {
     "name": "stdout",
     "output_type": "stream",
     "text": [
      "Training Accuracy with Logistic Regression: 0.7985\n",
      "Test Accuracy with Logistic Regression: 0.7396\n",
      "Fitting 3 folds for each of 144 candidates, totalling 432 fits\n"
     ]
    },
    {
     "name": "stderr",
     "output_type": "stream",
     "text": [
      "C:\\Users\\Betul\\anaconda3\\Lib\\site-packages\\sklearn\\model_selection\\_validation.py:547: FitFailedWarning: \n",
      "216 fits failed out of a total of 432.\n",
      "The score on these train-test partitions for these parameters will be set to nan.\n",
      "If these failures are not expected, you can try to debug them by setting error_score='raise'.\n",
      "\n",
      "Below are more details about the failures:\n",
      "--------------------------------------------------------------------------------\n",
      "54 fits failed with the following error:\n",
      "Traceback (most recent call last):\n",
      "  File \"C:\\Users\\Betul\\anaconda3\\Lib\\site-packages\\sklearn\\model_selection\\_validation.py\", line 895, in _fit_and_score\n",
      "    estimator.fit(X_train, y_train, **fit_params)\n",
      "  File \"C:\\Users\\Betul\\anaconda3\\Lib\\site-packages\\sklearn\\base.py\", line 1474, in wrapper\n",
      "    return fit_method(estimator, *args, **kwargs)\n",
      "           ^^^^^^^^^^^^^^^^^^^^^^^^^^^^^^^^^^^^^^\n",
      "  File \"C:\\Users\\Betul\\anaconda3\\Lib\\site-packages\\sklearn\\svm\\_classes.py\", line 325, in fit\n",
      "    self.coef_, self.intercept_, n_iter_ = _fit_liblinear(\n",
      "                                           ^^^^^^^^^^^^^^^\n",
      "  File \"C:\\Users\\Betul\\anaconda3\\Lib\\site-packages\\sklearn\\svm\\_base.py\", line 1216, in _fit_liblinear\n",
      "    solver_type = _get_liblinear_solver_type(multi_class, penalty, loss, dual)\n",
      "                  ^^^^^^^^^^^^^^^^^^^^^^^^^^^^^^^^^^^^^^^^^^^^^^^^^^^^^^^^^^^^\n",
      "  File \"C:\\Users\\Betul\\anaconda3\\Lib\\site-packages\\sklearn\\svm\\_base.py\", line 1047, in _get_liblinear_solver_type\n",
      "    raise ValueError(\n",
      "ValueError: Unsupported set of arguments: The combination of penalty='l1' and loss='hinge' is not supported, Parameters: penalty='l1', loss='hinge', dual=True\n",
      "\n",
      "--------------------------------------------------------------------------------\n",
      "54 fits failed with the following error:\n",
      "Traceback (most recent call last):\n",
      "  File \"C:\\Users\\Betul\\anaconda3\\Lib\\site-packages\\sklearn\\model_selection\\_validation.py\", line 895, in _fit_and_score\n",
      "    estimator.fit(X_train, y_train, **fit_params)\n",
      "  File \"C:\\Users\\Betul\\anaconda3\\Lib\\site-packages\\sklearn\\base.py\", line 1474, in wrapper\n",
      "    return fit_method(estimator, *args, **kwargs)\n",
      "           ^^^^^^^^^^^^^^^^^^^^^^^^^^^^^^^^^^^^^^\n",
      "  File \"C:\\Users\\Betul\\anaconda3\\Lib\\site-packages\\sklearn\\svm\\_classes.py\", line 325, in fit\n",
      "    self.coef_, self.intercept_, n_iter_ = _fit_liblinear(\n",
      "                                           ^^^^^^^^^^^^^^^\n",
      "  File \"C:\\Users\\Betul\\anaconda3\\Lib\\site-packages\\sklearn\\svm\\_base.py\", line 1216, in _fit_liblinear\n",
      "    solver_type = _get_liblinear_solver_type(multi_class, penalty, loss, dual)\n",
      "                  ^^^^^^^^^^^^^^^^^^^^^^^^^^^^^^^^^^^^^^^^^^^^^^^^^^^^^^^^^^^^\n",
      "  File \"C:\\Users\\Betul\\anaconda3\\Lib\\site-packages\\sklearn\\svm\\_base.py\", line 1047, in _get_liblinear_solver_type\n",
      "    raise ValueError(\n",
      "ValueError: Unsupported set of arguments: The combination of penalty='l1' and loss='squared_hinge' are not supported when dual=True, Parameters: penalty='l1', loss='squared_hinge', dual=True\n",
      "\n",
      "--------------------------------------------------------------------------------\n",
      "54 fits failed with the following error:\n",
      "Traceback (most recent call last):\n",
      "  File \"C:\\Users\\Betul\\anaconda3\\Lib\\site-packages\\sklearn\\model_selection\\_validation.py\", line 895, in _fit_and_score\n",
      "    estimator.fit(X_train, y_train, **fit_params)\n",
      "  File \"C:\\Users\\Betul\\anaconda3\\Lib\\site-packages\\sklearn\\base.py\", line 1474, in wrapper\n",
      "    return fit_method(estimator, *args, **kwargs)\n",
      "           ^^^^^^^^^^^^^^^^^^^^^^^^^^^^^^^^^^^^^^\n",
      "  File \"C:\\Users\\Betul\\anaconda3\\Lib\\site-packages\\sklearn\\svm\\_classes.py\", line 325, in fit\n",
      "    self.coef_, self.intercept_, n_iter_ = _fit_liblinear(\n",
      "                                           ^^^^^^^^^^^^^^^\n",
      "  File \"C:\\Users\\Betul\\anaconda3\\Lib\\site-packages\\sklearn\\svm\\_base.py\", line 1216, in _fit_liblinear\n",
      "    solver_type = _get_liblinear_solver_type(multi_class, penalty, loss, dual)\n",
      "                  ^^^^^^^^^^^^^^^^^^^^^^^^^^^^^^^^^^^^^^^^^^^^^^^^^^^^^^^^^^^^\n",
      "  File \"C:\\Users\\Betul\\anaconda3\\Lib\\site-packages\\sklearn\\svm\\_base.py\", line 1047, in _get_liblinear_solver_type\n",
      "    raise ValueError(\n",
      "ValueError: Unsupported set of arguments: The combination of penalty='l2' and loss='hinge' are not supported when dual=False, Parameters: penalty='l2', loss='hinge', dual=False\n",
      "\n",
      "--------------------------------------------------------------------------------\n",
      "54 fits failed with the following error:\n",
      "Traceback (most recent call last):\n",
      "  File \"C:\\Users\\Betul\\anaconda3\\Lib\\site-packages\\sklearn\\model_selection\\_validation.py\", line 895, in _fit_and_score\n",
      "    estimator.fit(X_train, y_train, **fit_params)\n",
      "  File \"C:\\Users\\Betul\\anaconda3\\Lib\\site-packages\\sklearn\\base.py\", line 1474, in wrapper\n",
      "    return fit_method(estimator, *args, **kwargs)\n",
      "           ^^^^^^^^^^^^^^^^^^^^^^^^^^^^^^^^^^^^^^\n",
      "  File \"C:\\Users\\Betul\\anaconda3\\Lib\\site-packages\\sklearn\\svm\\_classes.py\", line 325, in fit\n",
      "    self.coef_, self.intercept_, n_iter_ = _fit_liblinear(\n",
      "                                           ^^^^^^^^^^^^^^^\n",
      "  File \"C:\\Users\\Betul\\anaconda3\\Lib\\site-packages\\sklearn\\svm\\_base.py\", line 1216, in _fit_liblinear\n",
      "    solver_type = _get_liblinear_solver_type(multi_class, penalty, loss, dual)\n",
      "                  ^^^^^^^^^^^^^^^^^^^^^^^^^^^^^^^^^^^^^^^^^^^^^^^^^^^^^^^^^^^^\n",
      "  File \"C:\\Users\\Betul\\anaconda3\\Lib\\site-packages\\sklearn\\svm\\_base.py\", line 1047, in _get_liblinear_solver_type\n",
      "    raise ValueError(\n",
      "ValueError: Unsupported set of arguments: The combination of penalty='l1' and loss='hinge' is not supported, Parameters: penalty='l1', loss='hinge', dual=False\n",
      "\n",
      "  warnings.warn(some_fits_failed_message, FitFailedWarning)\n",
      "C:\\Users\\Betul\\anaconda3\\Lib\\site-packages\\sklearn\\model_selection\\_search.py:1051: UserWarning: One or more of the test scores are non-finite: [0.59304642        nan 0.51765843        nan 0.50208262        nan\n",
      " 0.48366564        nan 0.59607791        nan 0.59908117        nan\n",
      "        nan        nan        nan        nan        nan        nan\n",
      " 0.73240247 0.72364579 0.73240247 0.72364579 0.73240247 0.72364579\n",
      " 0.51524759        nan 0.60949689        nan 0.63268494        nan\n",
      " 0.54229266        nan 0.56825437        nan 0.59921016        nan\n",
      "        nan        nan        nan        nan        nan        nan\n",
      " 0.72670269 0.71597722 0.72670269 0.71597722 0.72670269 0.71597722\n",
      " 0.48996301        nan 0.57227022        nan 0.47949356        nan\n",
      " 0.57221891        nan 0.50998915        nan 0.53281266        nan\n",
      "        nan        nan        nan        nan        nan        nan\n",
      " 0.73136618 0.73400888 0.73136618 0.73398298 0.73136618 0.73400888\n",
      " 0.58338279        nan 0.58599869        nan 0.52415749        nan\n",
      " 0.53276197        nan 0.51853847        nan 0.55643768        nan\n",
      "        nan        nan        nan        nan        nan        nan\n",
      " 0.72048534 0.72522615 0.72048534 0.72517433 0.72048534 0.72520024\n",
      " 0.46361683        nan 0.5154837         nan 0.57586995        nan\n",
      " 0.50273373        nan 0.55387401        nan 0.52726644        nan\n",
      "        nan        nan        nan        nan        nan        nan\n",
      " 0.71538139 0.68460329 0.71538139 0.68447378 0.71538139 0.68439605\n",
      " 0.52027139        nan 0.54143759        nan 0.47799019        nan\n",
      " 0.51713444        nan 0.56270936        nan 0.56128629        nan\n",
      "        nan        nan        nan        nan        nan        nan\n",
      " 0.71512231 0.68146852 0.71512231 0.68141667 0.71512231 0.68167575]\n",
      "  warnings.warn(\n"
     ]
    },
    {
     "name": "stdout",
     "output_type": "stream",
     "text": [
      "Best Parameters for LinearSVC: {'C': 1, 'class_weight': None, 'dual': False, 'loss': 'squared_hinge', 'max_iter': 1000, 'penalty': 'l1'}\n",
      "Training Accuracy with Linear SVC: 0.8396\n",
      "Test Accuracy with Linear SVC: 0.7397\n",
      "Fitting 3 folds for each of 4 candidates, totalling 12 fits\n",
      "Best Parameters for MultinomialNB: {'alpha': 0.1, 'fit_prior': True}\n",
      "Training Accuracy with Naive Bayes: 0.7339\n",
      "Test Accuracy with Naive Bayes: 0.6904\n",
      "Fitting 3 folds for each of 48 candidates, totalling 144 fits\n",
      "Best Parameters for RandomForestClassifier: {'class_weight': 'balanced', 'max_depth': None, 'max_features': 'sqrt', 'min_samples_leaf': 2, 'min_samples_split': 5, 'n_estimators': 400}\n",
      "Training Accuracy with Random Forest: 0.9347\n",
      "Test Accuracy with Random Forest: 0.7303\n",
      "Fitting 3 folds for each of 24 candidates, totalling 72 fits\n",
      "Best Parameters for XGBClassifier: {'colsample_bytree': 0.6, 'learning_rate': 0.1, 'max_depth': 7, 'n_estimators': 300, 'reg_alpha': 1.0, 'reg_lambda': 0.1, 'subsample': 0.75}\n",
      "Training Accuracy with XGBoost: 0.8953\n",
      "Test Accuracy with XGBoost: 0.7647\n"
     ]
    }
   ],
   "source": [
    "# Define all models with their initial parameters\n",
    "log_reg = LogisticRegression(max_iter=10000, class_weight='balanced')\n",
    "linear_svc = LinearSVC()\n",
    "nb = MultinomialNB()\n",
    "rf = RandomForestClassifier(class_weight='balanced', n_jobs=20, random_state=42)\n",
    "xgb_clf = xgb.XGBClassifier(n_jobs=20, random_state=42)\n",
    "\n",
    "# Define hyperparameter grids for each model\n",
    "param_grid_log_reg = {\n",
    "    'solver': ['lbfgs', 'liblinear'],\n",
    "}\n",
    "\n",
    "param_grid_linear_svc = {\n",
    "    'C': [ 0.1, 1, 10],                 # Regularization strength\n",
    "    'penalty': ['l2', 'l1'],                      # Regularization type (note: 'l1' only works with 'liblinear')\n",
    "    'loss': ['hinge', 'squared_hinge'],           # Loss function\n",
    "    'dual': [True, False],                        # Dual or primal formulation\n",
    "    'max_iter': [1000, 2000, 3000],               # Maximum number of iterations\n",
    "    'class_weight': [None, 'balanced']            # Class weight balancing\n",
    "}\n",
    "\n",
    "\n",
    "param_grid_nb = {\n",
    "    'alpha': [0.1, 1.0],\n",
    "    'fit_prior': [True, False]\n",
    "}\n",
    "\n",
    "param_grid_rf = {\n",
    "    'n_estimators': [200, 400],\n",
    "    'max_features': ['sqrt', 'log2'],\n",
    "    'max_depth': [None, 10, 30],\n",
    "    'min_samples_split': [5, 10],\n",
    "    'min_samples_leaf': [2, 4],\n",
    "    'class_weight' : ['balanced']\n",
    "}\n",
    "\n",
    "param_grid_xgb = {\n",
    "    'learning_rate': [ 0.1],\n",
    "    'max_depth': [5, 7],\n",
    "    'n_estimators': [100, 300],\n",
    "    'colsample_bytree': [0.6, 0.7, 1.0],\n",
    "    'subsample': [0.75, 1.0],\n",
    "    'reg_lambda': [0.1],\n",
    "    'reg_alpha': [ 1.0],\n",
    "}\n",
    "\n",
    "# Dictionary to store results\n",
    "results = {}\n",
    "\n",
    "# Automated hyperparameter tuning function using GridSearchCV\n",
    "def tune_model(model, param_grid, X_train, y_train, scoring='accuracy', cv=3):\n",
    "    search = GridSearchCV(\n",
    "        estimator=model,\n",
    "        param_grid=param_grid,\n",
    "        scoring=scoring,\n",
    "        cv=cv,\n",
    "        verbose=2,\n",
    "        n_jobs=20\n",
    "    )\n",
    "    search.fit(X_train, y_train)\n",
    "    print(f\"Best Parameters for {model.__class__.__name__}: {search.best_params_}\")\n",
    "    return search.best_estimator_\n",
    "\n",
    "# Function to evaluate and store results for each model\n",
    "def evaluate_and_store_results(model, model_name, X_train, y_train, X_test, y_test):\n",
    "    model.fit(X_train, y_train)\n",
    "    y_pred = model.predict(X_test)\n",
    "    y_pred_train = model.predict(X_train)\n",
    "    test_acc = accuracy_score(y_test, y_pred)\n",
    "    train_acc = accuracy_score(y_train, y_pred_train)\n",
    "    \n",
    "    # Store results in a dictionary\n",
    "    results[model_name] = {\n",
    "        'y_pred_test' : y_pred,\n",
    "        'y_pred_train' : y_pred_train,\n",
    "        'Training Accuracy': train_acc,\n",
    "        'Test Accuracy': test_acc,\n",
    "    }\n",
    "    \n",
    "    print(f\"Training Accuracy with {model_name}: {train_acc:.4f}\")\n",
    "    print(f\"Test Accuracy with {model_name}: {test_acc:.4f}\")\n",
    "\n",
    "# Fit, tune, and evaluate models\n",
    "best_log_reg = tune_model(log_reg, param_grid_log_reg, X_train_combined, y_train)\n",
    "evaluate_and_store_results(best_log_reg, 'Logistic Regression', X_train_combined, y_train, X_test_combined, y_test)\n",
    "\n",
    "best_linear_svc = tune_model(linear_svc, param_grid_linear_svc, X_train_combined, y_train)\n",
    "evaluate_and_store_results(best_linear_svc, 'Linear SVC', X_train_combined, y_train, X_test_combined, y_test)\n",
    "\n",
    "best_nb = tune_model(nb, param_grid_nb, X_train_combined, y_train)\n",
    "evaluate_and_store_results(best_nb, 'Naive Bayes', X_train_combined, y_train, X_test_combined, y_test)\n",
    "\n",
    "best_rf = tune_model(rf, param_grid_rf, X_train_combined, y_train)\n",
    "evaluate_and_store_results(best_rf, 'Random Forest', X_train_combined, y_train, X_test_combined, y_test)\n",
    "\n",
    "best_xgb = tune_model(xgb_clf, param_grid_xgb, X_train_combined, y_train)\n",
    "evaluate_and_store_results(best_xgb, 'XGBoost', X_train_combined, y_train, X_test_combined, y_test)\n",
    "\n",
    "# Save the results as a DataFrame for further analysis or export\n",
    "results_df = pd.DataFrame(results).T\n",
    "results_df.to_csv(\"model_results_gridsearch.csv\", index=True)"
   ]
  },
  {
   "cell_type": "markdown",
   "id": "c4149889-a16a-4e94-91ea-4031310d476c",
   "metadata": {},
   "source": [
    "The results for Logistic Regression and Naive Bayes looks good. But there are still some overfitting models like Linear SVC, Random Forest Classifier and XGBoost. We will keep tuning the hyperparameters for these models individually below."
   ]
  },
  {
   "cell_type": "code",
   "execution_count": 79,
   "id": "551898d0-b14c-4932-9580-34b53d20fe30",
   "metadata": {},
   "outputs": [
    {
     "name": "stdout",
     "output_type": "stream",
     "text": [
      "Training Accuracy:  0.7648\n",
      "Test Accuracy:  0.7383\n",
      "              precision    recall  f1-score   support\n",
      "\n",
      "           0       0.75      0.81      0.78       714\n",
      "           1       0.75      0.77      0.76       500\n",
      "           2       0.78      0.61      0.69      2971\n",
      "           3       0.83      0.92      0.87      2718\n",
      "           4       0.42      0.72      0.53       179\n",
      "           5       0.47      0.63      0.54       458\n",
      "           6       0.68      0.68      0.68      2110\n",
      "\n",
      "    accuracy                           0.74      9650\n",
      "   macro avg       0.67      0.73      0.69      9650\n",
      "weighted avg       0.75      0.74      0.74      9650\n",
      "\n"
     ]
    }
   ],
   "source": [
    "linear_svc = LinearSVC(C=0.2, class_weight='balanced', dual=False, loss='squared_hinge', max_iter=1000, penalty='l1')\n",
    "linear_svc.fit(X_train_combined, y_train)\n",
    "# Predict on the test set\n",
    "y_pred = linear_svc.predict(X_test_combined)\n",
    "y_pred_train = linear_svc.predict(X_train_combined)\n",
    "print('Training Accuracy: ', round(accuracy_score(y_train, y_pred_train),4))\n",
    "print('Test Accuracy: ', round(accuracy_score(y_test, y_pred),4))\n",
    "print(classification_report(y_test, y_pred))"
   ]
  },
  {
   "cell_type": "code",
   "execution_count": 104,
   "id": "427204c7-61a1-4e84-8a59-900aa341c851",
   "metadata": {},
   "outputs": [
    {
     "name": "stdout",
     "output_type": "stream",
     "text": [
      "Test Accuracy: 0.7299\n",
      "Training Accuracy: 0.9170\n",
      "              precision    recall  f1-score   support\n",
      "\n",
      "           0       0.74      0.81      0.78       714\n",
      "           1       0.78      0.74      0.76       500\n",
      "           2       0.70      0.67      0.68      2971\n",
      "           3       0.86      0.89      0.87      2718\n",
      "           4       0.87      0.44      0.58       179\n",
      "           5       0.49      0.50      0.50       458\n",
      "           6       0.63      0.66      0.64      2110\n",
      "\n",
      "    accuracy                           0.73      9650\n",
      "   macro avg       0.72      0.67      0.69      9650\n",
      "weighted avg       0.73      0.73      0.73      9650\n",
      "\n"
     ]
    }
   ],
   "source": [
    "rf = RandomForestClassifier(class_weight='balanced', n_jobs=20, random_state=42, max_depth=None,\n",
    "                            max_features='sqrt', min_samples_leaf=2, min_samples_split=10, n_estimators=400,max_samples=0.75)\n",
    "rf.fit(X_train_combined, y_train)\n",
    "# Predict on the test set\n",
    "y_pred = rf.predict(X_test_combined)\n",
    "y_pred_train = rf.predict(X_train_combined)\n",
    "# Print test accuracy\n",
    "print('Test Accuracy: {:.4f}'.format(accuracy_score(y_test, y_pred)))\n",
    "# Print training accuracy\n",
    "print('Training Accuracy: {:.4f}'.format(accuracy_score(y_train, y_pred_train)))\n",
    "print(classification_report(y_test, y_pred))"
   ]
  },
  {
   "cell_type": "code",
   "execution_count": 102,
   "id": "cb747a0f-5dbe-4116-8077-1d18b604971b",
   "metadata": {},
   "outputs": [
    {
     "name": "stdout",
     "output_type": "stream",
     "text": [
      "Test Accuracy with XGBoost: 0.7595\n",
      "Training Accuracy with XGBoost: 0.8484\n",
      "              precision    recall  f1-score   support\n",
      "\n",
      "           0       0.82      0.77      0.80       714\n",
      "           1       0.85      0.74      0.79       500\n",
      "           2       0.71      0.74      0.72      2971\n",
      "           3       0.85      0.93      0.89      2718\n",
      "           4       0.85      0.52      0.65       179\n",
      "           5       0.58      0.50      0.54       458\n",
      "           6       0.69      0.65      0.67      2110\n",
      "\n",
      "    accuracy                           0.76      9650\n",
      "   macro avg       0.77      0.69      0.72      9650\n",
      "weighted avg       0.76      0.76      0.76      9650\n",
      "\n"
     ]
    }
   ],
   "source": [
    "# Predict on the test set\n",
    "xgb_clf = xgb.XGBClassifier(n_jobs=20, random_state=42, colsample_bytree=0.7, learning_rate=0.1, max_depth=4,\n",
    "                            n_estimators=500, reg_alpha=1.0, reg_lambda=0.5, subsample=1.0,gamma=0.1)\n",
    "xgb_clf.fit(X_train_combined, y_train)\n",
    "y_pred = xgb_clf.predict(X_test_combined)\n",
    "y_pred_train = xgb_clf.predict(X_train_combined)\n",
    "# Print test accuracy\n",
    "print('Test Accuracy with XGBoost: {:.4f}'.format(accuracy_score(y_test, y_pred)))\n",
    "# Print training accuracy\n",
    "print('Training Accuracy with XGBoost: {:.4f}'.format(accuracy_score(y_train, y_pred_train)))\n",
    "print(classification_report(y_test, y_pred))"
   ]
  },
  {
   "cell_type": "markdown",
   "id": "19bc0119-1971-4309-b3a8-1ee2b0be342f",
   "metadata": {},
   "source": [
    "## Voting Classifier"
   ]
  },
  {
   "cell_type": "code",
   "execution_count": 50,
   "id": "5a8d1250-10b4-4b89-8ddc-bdefae819aa0",
   "metadata": {},
   "outputs": [
    {
     "name": "stderr",
     "output_type": "stream",
     "text": [
      "C:\\Users\\Betul\\anaconda3\\Lib\\site-packages\\sklearn\\linear_model\\_logistic.py:469: ConvergenceWarning: lbfgs failed to converge (status=1):\n",
      "STOP: TOTAL NO. of ITERATIONS REACHED LIMIT.\n",
      "\n",
      "Increase the number of iterations (max_iter) or scale the data as shown in:\n",
      "    https://scikit-learn.org/stable/modules/preprocessing.html\n",
      "Please also refer to the documentation for alternative solver options:\n",
      "    https://scikit-learn.org/stable/modules/linear_model.html#logistic-regression\n",
      "  n_iter_i = _check_optimize_result(\n"
     ]
    },
    {
     "name": "stdout",
     "output_type": "stream",
     "text": [
      "Training Accuracy: 0.8755\n",
      "Test Accuracy: 0.7604\n",
      "              precision    recall  f1-score   support\n",
      "\n",
      "           0       0.80      0.83      0.81       714\n",
      "           1       0.82      0.77      0.79       500\n",
      "           2       0.72      0.71      0.71      2971\n",
      "           3       0.86      0.93      0.89      2718\n",
      "           4       0.86      0.47      0.61       179\n",
      "           5       0.61      0.52      0.56       458\n",
      "           6       0.68      0.67      0.67      2110\n",
      "\n",
      "    accuracy                           0.76      9650\n",
      "   macro avg       0.76      0.70      0.72      9650\n",
      "weighted avg       0.76      0.76      0.76      9650\n",
      "\n"
     ]
    }
   ],
   "source": [
    "# Define individual models with best paramters obtained during hyperparamter tuning\n",
    "log_reg = LogisticRegression(max_iter=10000, class_weight='balanced', solver='lbfgs')\n",
    "linear_svc = LinearSVC(C=1, class_weight=None, dual=False, loss='squared_hinge', max_iter=1000, penalty='l1')\n",
    "nb = MultinomialNB(alpha=0.1, fit_prior=True)\n",
    "rf = RandomForestClassifier(class_weight='balanced', n_jobs=20, random_state=42, max_depth=None,\n",
    "                            max_features='sqrt', min_samples_leaf=2, min_samples_split=5, n_estimators=400)\n",
    "xgb_clf = xgb.XGBClassifier(n_jobs=20, random_state=42, colsample_bytree=0.6, learning_rate=0.1, max_depth=7,\n",
    "                            n_estimators=300, reg_alpha=1.0, reg_lambda=0.1, subsample=0.75)\n",
    "\n",
    "# Create a VotingClassifier\n",
    "voting_clf = VotingClassifier(\n",
    "    estimators=[\n",
    "        ('log_reg', log_reg),\n",
    "        ('linear_svc', linear_svc),\n",
    "        ('nb', nb),\n",
    "        ('rf', rf),\n",
    "        ('xgb', xgb_clf)\n",
    "    ],\n",
    "    voting='hard'  # Use 'hard' for majority voting, 'soft' for probability-based voting\n",
    ")\n",
    "\n",
    "\n",
    "# Train the VotingClassifier\n",
    "voting_clf.fit(X_train_combined, y_train)\n",
    "\n",
    "# Make predictions\n",
    "y_pred = voting_clf.predict(X_test_combined)\n",
    "y_pred_train = voting_clf.predict(X_train_combined)\n",
    "\n",
    "# Evaluate the model\n",
    "test_accuracy = accuracy_score(y_test, y_pred)\n",
    "train_accuracy = accuracy_score(y_train, y_pred_train)\n",
    "\n",
    "print(f\"Training Accuracy: {train_accuracy:.4f}\")\n",
    "print(f\"Test Accuracy: {test_accuracy:.4f}\")\n",
    "print(classification_report(y_test, y_pred))\n"
   ]
  },
  {
   "cell_type": "code",
   "execution_count": 238,
   "id": "d4534e55-a211-4d31-a9ae-bd54d3a12494",
   "metadata": {},
   "outputs": [
    {
     "name": "stderr",
     "output_type": "stream",
     "text": [
      "C:\\Users\\Betul\\anaconda3\\Lib\\site-packages\\sklearn\\linear_model\\_logistic.py:469: ConvergenceWarning: lbfgs failed to converge (status=1):\n",
      "STOP: TOTAL NO. of ITERATIONS REACHED LIMIT.\n",
      "\n",
      "Increase the number of iterations (max_iter) or scale the data as shown in:\n",
      "    https://scikit-learn.org/stable/modules/preprocessing.html\n",
      "Please also refer to the documentation for alternative solver options:\n",
      "    https://scikit-learn.org/stable/modules/linear_model.html#logistic-regression\n",
      "  n_iter_i = _check_optimize_result(\n"
     ]
    },
    {
     "name": "stdout",
     "output_type": "stream",
     "text": [
      "Training Accuracy: 0.8172\n",
      "Test Accuracy: 0.7533\n",
      "              precision    recall  f1-score   support\n",
      "\n",
      "           0       0.78      0.83      0.80       714\n",
      "           1       0.78      0.79      0.78       500\n",
      "           2       0.75      0.68      0.71      2971\n",
      "           3       0.83      0.92      0.87      2718\n",
      "           4       0.71      0.54      0.61       179\n",
      "           5       0.55      0.56      0.55       458\n",
      "           6       0.68      0.67      0.67      2110\n",
      "\n",
      "    accuracy                           0.75      9650\n",
      "   macro avg       0.73      0.71      0.72      9650\n",
      "weighted avg       0.75      0.75      0.75      9650\n",
      "\n"
     ]
    }
   ],
   "source": [
    "# Initialize the individual models\n",
    "log_reg = LogisticRegression(max_iter=10000, class_weight='balanced', solver='lbfgs')\n",
    "linear_svc = LinearSVC(C=0.2, class_weight='balanced', dual=False, loss='squared_hinge', max_iter=1000, penalty='l1')\n",
    "nb = MultinomialNB(alpha=0.1, fit_prior=True)\n",
    "rf = RandomForestClassifier(class_weight='balanced', n_jobs=20, random_state=42, max_depth=30,\n",
    "                            max_features='sqrt', min_samples_leaf=2, min_samples_split=5, n_estimators=500,max_samples=0.75)\n",
    "xgb_clf = xgb.XGBClassifier(n_jobs=24, random_state=42, colsample_bytree=0.7, learning_rate=0.05, max_depth=4,\n",
    "                            n_estimators=500, reg_alpha=1.0, reg_lambda=0.5, subsample=1.0,gamma=0.1)\n",
    "\n",
    "# Create a VotingClassifier\n",
    "voting_clf = VotingClassifier(\n",
    "    estimators=[\n",
    "        ('log_reg', log_reg),\n",
    "        ('linear_svc', linear_svc),\n",
    "        ('nb', nb),\n",
    "        ('rf', rf),\n",
    "        ('xgb', xgb_clf)\n",
    "    ],\n",
    "    voting='hard'  # Use 'hard' for majority voting, 'soft' for probability-based voting\n",
    ")\n",
    "\n",
    "\n",
    "# Train the VotingClassifier\n",
    "voting_clf.fit(X_train_combined, y_train)\n",
    "\n",
    "# Make predictions\n",
    "y_pred = voting_clf.predict(X_test_combined)\n",
    "y_pred_train = voting_clf.predict(X_train_combined)\n",
    "\n",
    "# Evaluate the model\n",
    "test_accuracy = accuracy_score(y_test, y_pred)\n",
    "train_accuracy = accuracy_score(y_train, y_pred_train)\n",
    "\n",
    "print(f\"Training Accuracy: {train_accuracy:.4f}\")\n",
    "print(f\"Test Accuracy: {test_accuracy:.4f}\")\n",
    "print(classification_report(y_test, y_pred))\n"
   ]
  },
  {
   "cell_type": "markdown",
   "id": "1e592987-1a10-4245-80f6-311f6493c836",
   "metadata": {},
   "source": [
    "## Stacking Classifier"
   ]
  },
  {
   "cell_type": "code",
   "execution_count": 110,
   "id": "ca9c86c9-646f-406e-b580-34125b095322",
   "metadata": {},
   "outputs": [
    {
     "name": "stdout",
     "output_type": "stream",
     "text": [
      "Training Accuracy: 0.8340\n",
      "Test Accuracy: 0.7737\n",
      "              precision    recall  f1-score   support\n",
      "\n",
      "           0       0.83      0.82      0.82       714\n",
      "           1       0.85      0.78      0.82       500\n",
      "           2       0.75      0.71      0.73      2971\n",
      "           3       0.87      0.92      0.90      2718\n",
      "           4       0.83      0.58      0.68       179\n",
      "           5       0.60      0.57      0.59       458\n",
      "           6       0.67      0.72      0.69      2110\n",
      "\n",
      "    accuracy                           0.77      9650\n",
      "   macro avg       0.77      0.73      0.75      9650\n",
      "weighted avg       0.77      0.77      0.77      9650\n",
      "\n"
     ]
    }
   ],
   "source": [
    "# Initialize the individual models\n",
    "log_reg = LogisticRegression(max_iter=10000, class_weight='balanced', solver='lbfgs')\n",
    "linear_svc = LinearSVC(C=0.2, class_weight='balanced', dual=False, loss='squared_hinge', max_iter=1000, penalty='l1')\n",
    "nb = MultinomialNB(alpha=0.1, fit_prior=True)\n",
    "rf = RandomForestClassifier(class_weight='balanced', n_jobs=20, random_state=42, max_depth=30,\n",
    "                            max_features='sqrt', min_samples_leaf=2, min_samples_split=5, n_estimators=500,max_samples=0.75)\n",
    "xgb_clf = xgb.XGBClassifier(n_jobs=24, random_state=42, colsample_bytree=0.7, learning_rate=0.05, max_depth=4,\n",
    "                            n_estimators=500, reg_alpha=1.0, reg_lambda=0.5, subsample=1.0,gamma=0.1)\n",
    "\n",
    "# Define the base models for stacking\n",
    "estimators = [\n",
    "    ('log_reg', log_reg),\n",
    "    ('linear_svc', linear_svc),\n",
    "    ('nb', nb),\n",
    "    ('rf', rf),\n",
    "    ('xgb', xgb_clf)\n",
    "]\n",
    "\n",
    "# The meta-classifier is now an XGBoost classifier\n",
    "meta_classifier = xgb.XGBClassifier(\n",
    "    n_jobs=20,\n",
    "    random_state=42,\n",
    "    colsample_bytree=0.6,\n",
    "    learning_rate=0.1,\n",
    "    max_depth=3,  # Use a simpler model for the meta-classifier\n",
    "    n_estimators=100,\n",
    "    reg_alpha=0.1,\n",
    "    reg_lambda=1.0,\n",
    "    subsample=0.75\n",
    ")\n",
    "\n",
    "cv = StratifiedKFold(n_splits=5, shuffle=True, random_state=42)\n",
    "\n",
    "# Create the StackingClassifier\n",
    "stacking_clf = StackingClassifier(\n",
    "    estimators=estimators,\n",
    "    final_estimator=meta_classifier,\n",
    "    cv=cv,\n",
    "    n_jobs=24\n",
    ")\n",
    "\n",
    "# Train the StackingClassifier\n",
    "stacking_clf.fit(X_train_combined, y_train)\n",
    "\n",
    "# Make predictions\n",
    "y_pred = stacking_clf.predict(X_test_combined)\n",
    "y_pred_train = stacking_clf.predict(X_train_combined)\n",
    "\n",
    "# Evaluate the model\n",
    "test_accuracy = accuracy_score(y_test, y_pred)\n",
    "train_accuracy = accuracy_score(y_train, y_pred_train)\n",
    "\n",
    "print(f\"Training Accuracy: {train_accuracy:.4f}\")\n",
    "print(f\"Test Accuracy: {test_accuracy:.4f}\")\n",
    "print(classification_report(y_test, y_pred))\n"
   ]
  },
  {
   "cell_type": "markdown",
   "id": "d07452ef-26be-4b31-a2fd-86636a39f238",
   "metadata": {},
   "source": [
    "This is the best model we have so far. The difference between the training and test accuracies is small, and the test accuracy\n",
    "is the highest we've achieved. We will continue analyzing this model to ensure it generalizes well to unseen data."
   ]
  },
  {
   "cell_type": "code",
   "execution_count": 112,
   "id": "d437d1d3-9613-4778-b7eb-ab1a018d069e",
   "metadata": {},
   "outputs": [
    {
     "data": {
      "text/plain": [
       "['stacking_clf_model.pkl']"
      ]
     },
     "execution_count": 112,
     "metadata": {},
     "output_type": "execute_result"
    }
   ],
   "source": [
    "# Save the fitted StackingClassifier model\n",
    "joblib.dump(stacking_clf, 'stacking_clf_model.pkl')\n"
   ]
  },
  {
   "cell_type": "code",
   "execution_count": 114,
   "id": "1f2fff7e-d9cb-48d1-a7cd-8a0604cf588b",
   "metadata": {},
   "outputs": [],
   "source": [
    "# Load the saved model and use it to make predictions\n",
    "loaded_model = joblib.load('stacking_clf_model.pkl')\n",
    "y_pred_loaded = loaded_model.predict(X_test_combined)\n",
    "\n",
    "# Verify that the loaded model gives the same results\n",
    "assert (y_pred == y_pred_loaded).all()"
   ]
  },
  {
   "cell_type": "markdown",
   "id": "605f75d0-8ed2-4819-8c78-62789f40f84e",
   "metadata": {},
   "source": [
    "# Cross-Validation Analysis"
   ]
  },
  {
   "cell_type": "code",
   "execution_count": 116,
   "id": "c076e7f6-186b-4dd0-9619-c8fbd098d714",
   "metadata": {},
   "outputs": [
    {
     "name": "stdout",
     "output_type": "stream",
     "text": [
      "Cross-Validation Scores for each fold: [0.77525907 0.76917098 0.76683938 0.77318653 0.77820961]\n",
      "Mean Cross-Validation Accuracy: 0.7725\n",
      "Standard Deviation of Cross-Validation Accuracy: 0.0041\n"
     ]
    }
   ],
   "source": [
    "# Initialize K-Fold Cross-Validation\n",
    "kf = KFold(n_splits=5, shuffle=True, random_state=42)  # 5-fold cross-validation with shuffling\n",
    "\n",
    "# Perform cross-validation\n",
    "cv_scores = cross_val_score(stacking_clf, X_train_combined, y_train, cv=kf, scoring='accuracy', n_jobs=24)\n",
    "\n",
    "# Print the cross-validation scores for each fold\n",
    "print(\"Cross-Validation Scores for each fold:\", cv_scores)\n",
    "\n",
    "# Print the mean and standard deviation of the cross-validation scores\n",
    "print(f\"Mean Cross-Validation Accuracy: {np.mean(cv_scores):.4f}\")\n",
    "print(f\"Standard Deviation of Cross-Validation Accuracy: {np.std(cv_scores):.4f}\")"
   ]
  },
  {
   "cell_type": "markdown",
   "id": "650f6533-3f21-430c-bf59-1f032bd86489",
   "metadata": {},
   "source": [
    "Cross-validation scores are relatively close to each other, which suggests that our model performs consistently across different subsets of the data.\n",
    "The range of scores is narrow (between 0.7668 and 0.7782), showing that our model is not highly sensitive to small changes in the training data.\n",
    "Mean cross-validation accuracy is 0.7725 which  is a good average performance, indicating that the model performs well across all the folds.\n",
    "A low standard deviation of 0.0041 indicates that the variation between the fold accuracies is minimal.\n",
    "This suggests the model is stable and does not overfit or underfit based on different training sets.\n",
    "The close scores across folds and the relatively low standard deviation suggest that the model is likely to generalize well to unseen data.\n"
   ]
  },
  {
   "cell_type": "markdown",
   "id": "1ffdfcdd-25f6-4ee6-82d5-399e152d721c",
   "metadata": {},
   "source": [
    "## Analysis of The Results"
   ]
  },
  {
   "cell_type": "code",
   "execution_count": 118,
   "id": "0cd05eb5-39f7-4b28-a594-0136e0c7d3b1",
   "metadata": {},
   "outputs": [
    {
     "data": {
      "image/png": "[encoded data removed]",
      "text/plain": [
       "<Figure size 800x600 with 2 Axes>"
      ]
     },
     "metadata": {},
     "output_type": "display_data"
    }
   ],
   "source": [
    "# Generate confusion matrix\n",
    "cm = confusion_matrix(y_test, y_pred)\n",
    "\n",
    "# Plot confusion matrix\n",
    "plt.figure(figsize=(8, 6))\n",
    "sns.heatmap(cm, annot=True, fmt=\"d\", cmap=\"Blues\", xticklabels=class_names, yticklabels=class_names)\n",
    "plt.xlabel('Predicted')\n",
    "plt.ylabel('Actual')\n",
    "plt.title('Confusion Matrix for Naive Byaes with BOW')\n",
    "plt.show()"
   ]
  },
  {
   "cell_type": "markdown",
   "id": "99c323bd-fbe8-4c9d-81bd-693a4bf1d0fb",
   "metadata": {},
   "source": [
    "### Class 3 - Normal "
   ]
  },
  {
   "cell_type": "markdown",
   "id": "2a4b4ea6-9819-45d2-b9ad-baeada073909",
   "metadata": {},
   "source": [
    "**Precision: 0.87, Recall: 0.92, F1-Score: 0.90** <br>\n",
    "The model performs best in distinguishing normal people from those diagnosed with a mental illness. \n",
    "This class has the highest recall, meaning the model correctly identifies most normal individuals as normal. \n",
    "Its precision is also high, indicating that very few people are mistakenly classified as normal despite having a mental illness.\n",
    "Given its large support (2,718 instances), this performance positively impacts the overall accuracy."
   ]
  },
  {
   "cell_type": "markdown",
   "id": "fbdaa136-56d5-469c-be9d-6a45aa616d65",
   "metadata": {},
   "source": [
    "### Class 0 - Anxiety"
   ]
  },
  {
   "cell_type": "markdown",
   "id": "b7d8f803-2a80-4652-bf18-16608dccb872",
   "metadata": {},
   "source": [
    "**Precision: 0.83, Recall: 0.82, F1-Score: 0.82** <br>\n",
    "This class which is tagged as anxiety is well-balanced with both high precision and recall, indicating the model performs well \n",
    "in distinguishing this class without many false positives or false negatives."
   ]
  },
  {
   "cell_type": "markdown",
   "id": "948fdcd6-fd85-4054-8712-539918c318c1",
   "metadata": {},
   "source": [
    "### Class 1 - Bipolar"
   ]
  },
  {
   "cell_type": "markdown",
   "id": "c7e2874b-ba10-48e1-9d0f-c91a24cea552",
   "metadata": {},
   "source": [
    "**Precision: 0.85, Recall: 0.78, F1-Score: 0.82** <br>\n",
    "The Precision is high at 0.85, but recall is lower at 0.78 which shows that if someone does not have bipolar disorder \n",
    "there is a low chance that he/she will be identified as biploar by the model. But the model is not very good at capturing all\n",
    "bipolars."
   ]
  },
  {
   "cell_type": "markdown",
   "id": "e44f877c-af94-4300-8754-1e30b26f560d",
   "metadata": {},
   "source": [
    "### Class 2 - Depression"
   ]
  },
  {
   "cell_type": "markdown",
   "id": "ec44d21e-61b4-4846-a489-273b89e48076",
   "metadata": {},
   "source": [
    "**Precision: 0.75, Recall: 0.71, F1-Score: 0.73** <br>\n",
    "The Depression class has the most instances (2971), but performance is moderate, with a precision of 0.75 \n",
    "and a recall of 0.71. This indicates that the model is reasonably effective at detecting Depression but \n",
    "still misses 29% of actual cases and incorrectly labels some other classes as Depression 25% of the time. \n",
    "When we check the confusion matrix, we observe that the model has difficulty distinguishing between Depression \n",
    "and Suicidal. Considering that these conditions can overlap for some people, it is understandable why the model \n",
    "struggles to separate them more effectively."
   ]
  },
  {
   "cell_type": "markdown",
   "id": "4cd88282-fcab-4c44-8f51-858b7f8c8236",
   "metadata": {},
   "source": [
    "### Class 4 - Personality Disorder"
   ]
  },
  {
   "cell_type": "markdown",
   "id": "fe7deae3-6cbb-4833-8a95-1fa0e0ecdd4e",
   "metadata": {},
   "source": [
    "**Precision: 0.83, Recall: 0.58, F1-Score: 0.68** <br>\n",
    "The model has a high precision (0.83) but a very low recall (0.58),\n",
    "indicating that while it is usually correct when predicting Personality Disorder, \n",
    "it only identifies 58% of actual cases.\n",
    "This suggests that many instances of Personality Disorder are being misclassified as other categories,\n",
    "potentially due to insufficient or imbalanced data for this class. When we check the confusion matrix, we see that\n",
    "                                                  most of the misclassifications are labeled as Depression.\n"
   ]
  },
  {
   "cell_type": "markdown",
   "id": "b0b5f06e-16e0-4263-a53e-0da37789034a",
   "metadata": {},
   "source": [
    "### Class 6 - Suicidal"
   ]
  },
  {
   "cell_type": "markdown",
   "id": "2dcaec91-5c05-4a7d-805f-492b56357da6",
   "metadata": {},
   "source": [
    "**Precision: 0.67, Recall: 0.72, F1-Score: 0.69** <br>\n",
    "The precision (0.67) and recall (0.72) are relatively balanced but still leave room for improvement.\n",
    "The model fails to detect about 28% ofSuicidal instances and misclassifies other categories as Suicidal 33% of the time.\n",
    "When we check the confusion matrix, we see that most of the misclassifications are labeled as Depression or Normal."
   ]
  },
  {
   "cell_type": "markdown",
   "id": "8d406d46-f1ff-4074-a97d-abc6ae7be8b4",
   "metadata": {},
   "source": [
    "### Class 5 - Stress"
   ]
  },
  {
   "cell_type": "markdown",
   "id": "5b6bef3e-7125-40bb-a113-762be3a3a6a3",
   "metadata": {},
   "source": [
    "**Precision: 0.60, Recall: 0.57, F1-Score: 0.59** <br>\n",
    "Both precision (0.60) and recall (0.57) are relatively low, indicating that the model struggles with accurately predicting Stress cases.\n",
    "The low f1-score (0.59) suggests that there is significant confusion between Stress and other similar classes like Anxiety, Depression or Normal."
   ]
  },
  {
   "cell_type": "markdown",
   "id": "941ac9bb-dac1-4fde-a301-baca2c3f2426",
   "metadata": {},
   "source": [
    "To enhance the model's performance, we will combine certain classes and observe how it affects the model's behavior."
   ]
  },
  {
   "cell_type": "markdown",
   "id": "ddfb9ed0-3591-4472-9d9f-482ee91083cf",
   "metadata": {},
   "source": [
    "## Combining Classes Anxiety with Stress, Depression with Suicidal"
   ]
  },
  {
   "cell_type": "code",
   "execution_count": 175,
   "id": "946435f2-49ea-44df-9380-004724085cbb",
   "metadata": {},
   "outputs": [
    {
     "name": "stdout",
     "output_type": "stream",
     "text": [
      "status_encoded\n",
      "2    25406\n",
      "3    13590\n",
      "0     5860\n",
      "1     2501\n",
      "4      892\n",
      "Name: count, dtype: int64\n"
     ]
    }
   ],
   "source": [
    "# Combine class 0 and 5 into one class, and 2 and 6 into another class\n",
    "class_mapping = {\n",
    "    0: 0, 5: 0,  # Combine classes 0 and 5 into class 0\n",
    "    2: 2, 6: 2,  # Combine classes 2 and 6 into class 2\n",
    "    1: 1,        # Keep class 1 as it is\n",
    "    3: 3,        # Keep class 3 as it is\n",
    "    4: 4         # Keep class 4 as it is\n",
    "}\n",
    "\n",
    "# Replace class labels in y\n",
    "y_combined = data['status_encoded'].replace(class_mapping)\n",
    "\n",
    "# Print the result to verify\n",
    "print(y_combined.value_counts())  # See the distribution of new classes"
   ]
  },
  {
   "cell_type": "code",
   "execution_count": 179,
   "id": "e7f6f704-3d42-443d-b82a-003ce9fa622d",
   "metadata": {},
   "outputs": [],
   "source": [
    "X_train2, X_test2, y_train2, y_test2 = train_test_split(data[['statement','stemmed','stemmed word count','lemmatized']], y_combined, test_size=0.2, random_state=42,stratify = y_combined)"
   ]
  },
  {
   "cell_type": "markdown",
   "id": "735ce8a2-0a66-4498-9343-726590b4471d",
   "metadata": {},
   "source": [
    "## TFIDF Vectorization"
   ]
  },
  {
   "cell_type": "code",
   "execution_count": 182,
   "id": "dcb557ff-a29a-48ad-a59c-1895042825b7",
   "metadata": {},
   "outputs": [
    {
     "name": "stdout",
     "output_type": "stream",
     "text": [
      "X_train_tfidf shape:  (38599, 5000)\n",
      "X_test_tfidf shape:  (9650, 5000)\n"
     ]
    }
   ],
   "source": [
    "tfidf = TfidfVectorizer(max_features=5000, ngram_range=(1, 2),min_df=10, stop_words='english')\n",
    "X_train_tfidf2 = tfidf.fit_transform(X_train2['stemmed'])\n",
    "X_test_tfidf2 = tfidf.transform(X_test2['stemmed'])\n",
    "\n",
    "print('X_train_tfidf shape: ', X_train_tfidf2.shape)\n",
    "print('X_test_tfidf shape: ', X_test_tfidf2.shape)"
   ]
  },
  {
   "cell_type": "markdown",
   "id": "df375eaa-b984-4640-92a7-f5abd0cd0274",
   "metadata": {},
   "source": [
    "## Combining Word Length"
   ]
  },
  {
   "cell_type": "code",
   "execution_count": 186,
   "id": "f8e8a976-f6d1-4e74-b55d-113bda82d596",
   "metadata": {},
   "outputs": [
    {
     "name": "stdout",
     "output_type": "stream",
     "text": [
      "X_train_combined shape:  (38599, 5001)\n",
      "X_test_combined shape:  (9650, 5001)\n"
     ]
    }
   ],
   "source": [
    "# Ensure 'stemmed word count' is reshaped as a 2D array and convert it to sparse format\n",
    "X_train_word_count2 = X_train2[['stemmed word count']].values\n",
    "X_test_word_count2 = X_test2[['stemmed word count']].values\n",
    "\n",
    "# Combine TF-IDF features with the stemmed word count feature\n",
    "X_train_combined2 = hstack([X_train_tfidf2, X_train_word_count2])\n",
    "X_test_combined2 = hstack([X_test_tfidf2, X_test_word_count2])\n",
    "\n",
    "print('X_train_combined shape: ', X_train_combined2.shape)\n",
    "print('X_test_combined shape: ', X_test_combined2.shape)"
   ]
  },
  {
   "cell_type": "markdown",
   "id": "3d5bf976-4ab3-4bf1-a1fd-f12f289c75f3",
   "metadata": {},
   "source": [
    "## Logistic Regression"
   ]
  },
  {
   "cell_type": "code",
   "execution_count": 188,
   "id": "38cb9d0f-aff2-49a7-9cd0-288b861bd5c5",
   "metadata": {},
   "outputs": [
    {
     "name": "stdout",
     "output_type": "stream",
     "text": [
      "Training Accuracy:  0.8989\n",
      "Test Accuracy:  0.8638\n",
      "              precision    recall  f1-score   support\n",
      "\n",
      "           0       0.75      0.79      0.77      1172\n",
      "           1       0.73      0.81      0.77       500\n",
      "           2       0.95      0.87      0.91      5081\n",
      "           3       0.84      0.92      0.88      2718\n",
      "           4       0.42      0.68      0.52       179\n",
      "\n",
      "    accuracy                           0.86      9650\n",
      "   macro avg       0.74      0.81      0.77      9650\n",
      "weighted avg       0.88      0.86      0.87      9650\n",
      "\n"
     ]
    },
    {
     "name": "stderr",
     "output_type": "stream",
     "text": [
      "C:\\Users\\Betul\\anaconda3\\Lib\\site-packages\\sklearn\\linear_model\\_logistic.py:469: ConvergenceWarning: lbfgs failed to converge (status=1):\n",
      "STOP: TOTAL NO. of ITERATIONS REACHED LIMIT.\n",
      "\n",
      "Increase the number of iterations (max_iter) or scale the data as shown in:\n",
      "    https://scikit-learn.org/stable/modules/preprocessing.html\n",
      "Please also refer to the documentation for alternative solver options:\n",
      "    https://scikit-learn.org/stable/modules/linear_model.html#logistic-regression\n",
      "  n_iter_i = _check_optimize_result(\n"
     ]
    }
   ],
   "source": [
    "log_reg_tfidf = LogisticRegression(solver='lbfgs',class_weight='balanced', max_iter=10000)\n",
    "log_reg_tfidf.fit(X_train_combined2, y_train2)\n",
    "\n",
    "y_pred = log_reg_tfidf.predict(X_test_combined2)\n",
    "y_pred_train = log_reg_tfidf.predict(X_train_combined2)\n",
    "print('Training Accuracy: ', round(accuracy_score(y_train2, y_pred_train),4))\n",
    "print('Test Accuracy: ', round(accuracy_score(y_test2, y_pred),4))\n",
    "print(classification_report(y_test2, y_pred))"
   ]
  },
  {
   "cell_type": "markdown",
   "id": "1ff5f543-2441-4698-82e6-74178065484c",
   "metadata": {},
   "source": [
    "## Stacking Classifier"
   ]
  },
  {
   "cell_type": "code",
   "execution_count": 192,
   "id": "496bd19a-efaa-429e-8f0a-17806b12fd8d",
   "metadata": {},
   "outputs": [
    {
     "name": "stdout",
     "output_type": "stream",
     "text": [
      "Training Accuracy: 0.9282\n",
      "Test Accuracy: 0.8939\n",
      "              precision    recall  f1-score   support\n",
      "\n",
      "           0       0.78      0.80      0.79      1172\n",
      "           1       0.86      0.76      0.81       500\n",
      "           2       0.93      0.93      0.93      5081\n",
      "           3       0.89      0.91      0.90      2718\n",
      "           4       0.74      0.56      0.64       179\n",
      "\n",
      "    accuracy                           0.89      9650\n",
      "   macro avg       0.84      0.79      0.81      9650\n",
      "weighted avg       0.89      0.89      0.89      9650\n",
      "\n"
     ]
    }
   ],
   "source": [
    "# Initialize the individual models\n",
    "log_reg = LogisticRegression(max_iter=10000, class_weight='balanced', solver='lbfgs')\n",
    "linear_svc = LinearSVC(C=0.2, class_weight='balanced', dual=False, loss='squared_hinge', max_iter=1000, penalty='l1')\n",
    "nb = MultinomialNB(alpha=0.1, fit_prior=True)\n",
    "rf = RandomForestClassifier(class_weight='balanced', n_jobs=20, random_state=42, max_depth=30,\n",
    "                            max_features='sqrt', min_samples_leaf=2, min_samples_split=5, n_estimators=500,max_samples=0.75)\n",
    "xgb_clf = xgb.XGBClassifier(n_jobs=24, random_state=42, colsample_bytree=0.7, learning_rate=0.05, max_depth=4,\n",
    "                            n_estimators=500, reg_alpha=1.0, reg_lambda=0.5, subsample=1.0,gamma=0.1)\n",
    "\n",
    "# Define the base models for stacking\n",
    "estimators = [\n",
    "    ('log_reg', log_reg),\n",
    "    ('linear_svc', linear_svc),\n",
    "    ('nb', nb),\n",
    "    ('rf', rf),\n",
    "    ('xgb', xgb_clf)\n",
    "]\n",
    "\n",
    "# The meta-classifier is now an XGBoost classifier\n",
    "meta_classifier = xgb.XGBClassifier(\n",
    "    n_jobs=20,\n",
    "    random_state=42,\n",
    "    colsample_bytree=0.6,\n",
    "    learning_rate=0.1,\n",
    "    max_depth=3,  # Use a simpler model for the meta-classifier\n",
    "    n_estimators=100,\n",
    "    reg_alpha=0.1,\n",
    "    reg_lambda=1.0,\n",
    "    subsample=0.75\n",
    ")\n",
    "\n",
    "cv = StratifiedKFold(n_splits=5, shuffle=True, random_state=42)\n",
    "\n",
    "# Create the StackingClassifier\n",
    "stacking_clf = StackingClassifier(\n",
    "    estimators=estimators,\n",
    "    final_estimator=meta_classifier,\n",
    "    cv=cv,\n",
    "    n_jobs=24\n",
    ")\n",
    "\n",
    "# Train the StackingClassifier\n",
    "stacking_clf.fit(X_train_combined2, y_train2)\n",
    "\n",
    "# Make predictions\n",
    "y_pred = stacking_clf.predict(X_test_combined2)\n",
    "y_pred_train = stacking_clf.predict(X_train_combined2)\n",
    "\n",
    "# Evaluate the model\n",
    "test_accuracy = accuracy_score(y_test2, y_pred)\n",
    "train_accuracy = accuracy_score(y_train2, y_pred_train)\n",
    "\n",
    "print(f\"Training Accuracy: {train_accuracy:.4f}\")\n",
    "print(f\"Test Accuracy: {test_accuracy:.4f}\")\n",
    "print(classification_report(y_test2, y_pred))"
   ]
  },
  {
   "cell_type": "code",
   "execution_count": 202,
   "id": "2e14eb46-9894-4c31-aaab-b583f11ea700",
   "metadata": {},
   "outputs": [
    {
     "data": {
      "image/png": "[encoded data removed]",
      "text/plain": [
       "<Figure size 800x600 with 2 Axes>"
      ]
     },
     "metadata": {},
     "output_type": "display_data"
    }
   ],
   "source": [
    "# Generate confusion matrix\n",
    "cm = confusion_matrix(y_test2, y_pred)\n",
    "\n",
    "class_names = np.array(['Anxiety-Stress', 'Bipolar', 'Depression-Suicidal', 'Normal',\n",
    "                        'Personality disorder'], dtype=object)\n",
    "# Plot confusion matrix\n",
    "plt.figure(figsize=(8, 6))\n",
    "sns.heatmap(cm, annot=True, fmt=\"d\", cmap=\"Blues\", xticklabels=class_names, yticklabels=class_names)\n",
    "plt.xlabel('Predicted')\n",
    "plt.ylabel('Actual')\n",
    "plt.title('Confusion Matrix for Naive Byaes with BOW')\n",
    "plt.show()"
   ]
  },
  {
   "cell_type": "code",
   "execution_count": 204,
   "id": "8928716c-5196-4478-a2a8-4ad7f2a47daa",
   "metadata": {},
   "outputs": [
    {
     "name": "stdout",
     "output_type": "stream",
     "text": [
      "Cross-Validation Scores for each fold: [0.89818653 0.89520725 0.89572539 0.89443005 0.89959839]\n",
      "Mean Cross-Validation Accuracy: 0.8966\n",
      "Standard Deviation of Cross-Validation Accuracy: 0.0019\n"
     ]
    }
   ],
   "source": [
    "# Initialize K-Fold Cross-Validation\n",
    "kf = KFold(n_splits=5, shuffle=True, random_state=42)  # 5-fold cross-validation with shuffling\n",
    "\n",
    "# Perform cross-validation\n",
    "cv_scores = cross_val_score(stacking_clf, X_train_combined2, y_train2, cv=kf, scoring='accuracy', n_jobs=24)\n",
    "\n",
    "# Print the cross-validation scores for each fold\n",
    "print(\"Cross-Validation Scores for each fold:\", cv_scores)\n",
    "\n",
    "# Print the mean and standard deviation of the cross-validation scores\n",
    "print(f\"Mean Cross-Validation Accuracy: {np.mean(cv_scores):.4f}\")\n",
    "print(f\"Standard Deviation of Cross-Validation Accuracy: {np.std(cv_scores):.4f}\")"
   ]
  },
  {
   "cell_type": "markdown",
   "id": "dc59e101-5392-436f-a831-859cbec9c3db",
   "metadata": {},
   "source": [
    "## Drop Personality Disorder Which Has Small Number of INstances"
   ]
  },
  {
   "cell_type": "code",
   "execution_count": 207,
   "id": "0985aff1-ad3c-455e-926d-2e9a3d312a89",
   "metadata": {},
   "outputs": [
    {
     "name": "stdout",
     "output_type": "stream",
     "text": [
      "status_combined\n",
      "2    25406\n",
      "3    13590\n",
      "0     5860\n",
      "1     2501\n",
      "Name: count, dtype: int64\n"
     ]
    }
   ],
   "source": [
    "# Create a new dataframe to keep the original data intact\n",
    "data_modified = data.copy()\n",
    "\n",
    "# Combine class 0 and 5 into one class, and 2 and 6 into another class\n",
    "class_mapping = {\n",
    "    0: 0, 5: 0,  # Combine classes 0 and 5 into class 0\n",
    "    2: 2, 6: 2,  # Combine classes 2 and 6 into class 2\n",
    "    1: 1,        # Keep class 1 as it is\n",
    "    3: 3,        # Keep class 3 as it is\n",
    "    4: 4         # Keep class 4 as it is for now\n",
    "}\n",
    "\n",
    "# Replace class labels in the new dataframe\n",
    "data_modified['status_combined'] = data_modified['status_encoded'].replace(class_mapping)\n",
    "\n",
    "# Drop rows where the class is 4 from the new dataframe\n",
    "data_filtered = data_modified[data_modified['status_combined'] != 4]\n",
    "\n",
    "# Print the distribution of the new classes\n",
    "print(data_filtered['status_combined'].value_counts())"
   ]
  },
  {
   "cell_type": "code",
   "execution_count": 221,
   "id": "456eb86e-ed22-4f73-8f90-dbbba6f0ede8",
   "metadata": {},
   "outputs": [],
   "source": [
    "X_train3, X_test3, y_train3, y_test3 = train_test_split(data_filtered[['statement','stemmed','stemmed word count','lemmatized']], data_filtered['status_combined'], test_size=0.2, random_state=42,stratify = data_filtered['status_combined'])"
   ]
  },
  {
   "cell_type": "code",
   "execution_count": 223,
   "id": "5dcfc220-2360-46a0-b7c7-208e1ab26fce",
   "metadata": {},
   "outputs": [
    {
     "name": "stdout",
     "output_type": "stream",
     "text": [
      "X_train_tfidf shape:  (37885, 5000)\n",
      "X_test_tfidf shape:  (9472, 5000)\n"
     ]
    }
   ],
   "source": [
    "tfidf = TfidfVectorizer(max_features=5000, ngram_range=(1, 2),min_df=10, stop_words='english')\n",
    "X_train_tfidf3 = tfidf.fit_transform(X_train3['stemmed'])\n",
    "X_test_tfidf3 = tfidf.transform(X_test3['stemmed'])\n",
    "\n",
    "print('X_train_tfidf shape: ', X_train_tfidf3.shape)\n",
    "print('X_test_tfidf shape: ', X_test_tfidf3.shape)"
   ]
  },
  {
   "cell_type": "code",
   "execution_count": 225,
   "id": "81cab3a1-c804-4894-950b-c6ead3b3cba5",
   "metadata": {},
   "outputs": [
    {
     "name": "stdout",
     "output_type": "stream",
     "text": [
      "X_train_combined shape:  (37885, 5001)\n",
      "X_test_combined shape:  (9472, 5001)\n"
     ]
    }
   ],
   "source": [
    "# Ensure 'stemmed word count' is reshaped as a 2D array and convert it to sparse format\n",
    "X_train_word_count3 = X_train3[['stemmed word count']].values\n",
    "X_test_word_count3 = X_test3[['stemmed word count']].values\n",
    "\n",
    "# Combine TF-IDF features with the stemmed word count feature\n",
    "X_train_combined3 = hstack([X_train_tfidf3, X_train_word_count3])\n",
    "X_test_combined3 = hstack([X_test_tfidf3, X_test_word_count3])\n",
    "\n",
    "print('X_train_combined shape: ', X_train_combined3.shape)\n",
    "print('X_test_combined shape: ', X_test_combined3.shape)"
   ]
  },
  {
   "cell_type": "code",
   "execution_count": 227,
   "id": "8fd987fd-a9dd-4e47-87b6-84affd4e2d84",
   "metadata": {},
   "outputs": [
    {
     "name": "stdout",
     "output_type": "stream",
     "text": [
      "Training Accuracy: 0.9311\n",
      "Test Accuracy: 0.9017\n",
      "              precision    recall  f1-score   support\n",
      "\n",
      "           0       0.80      0.81      0.80      1172\n",
      "           1       0.87      0.77      0.82       500\n",
      "           2       0.93      0.93      0.93      5082\n",
      "           3       0.89      0.91      0.90      2718\n",
      "\n",
      "    accuracy                           0.90      9472\n",
      "   macro avg       0.87      0.85      0.86      9472\n",
      "weighted avg       0.90      0.90      0.90      9472\n",
      "\n"
     ]
    }
   ],
   "source": [
    "# Initialize the individual models\n",
    "log_reg = LogisticRegression(max_iter=10000, class_weight='balanced', solver='lbfgs')\n",
    "linear_svc = LinearSVC(C=0.2, class_weight='balanced', dual=False, loss='squared_hinge', max_iter=1000, penalty='l1')\n",
    "nb = MultinomialNB(alpha=0.1, fit_prior=True)\n",
    "rf = RandomForestClassifier(class_weight='balanced', n_jobs=20, random_state=42, max_depth=30,\n",
    "                            max_features='sqrt', min_samples_leaf=2, min_samples_split=5, n_estimators=500,max_samples=0.75)\n",
    "xgb_clf = xgb.XGBClassifier(n_jobs=24, random_state=42, colsample_bytree=0.7, learning_rate=0.05, max_depth=4,\n",
    "                            n_estimators=500, reg_alpha=1.0, reg_lambda=0.5, subsample=1.0,gamma=0.1)\n",
    "\n",
    "# Define the base models for stacking\n",
    "estimators = [\n",
    "    ('log_reg', log_reg),\n",
    "    ('linear_svc', linear_svc),\n",
    "    ('nb', nb),\n",
    "    ('rf', rf),\n",
    "    ('xgb', xgb_clf)\n",
    "]\n",
    "\n",
    "# The meta-classifier is now an XGBoost classifier\n",
    "meta_classifier = xgb.XGBClassifier(\n",
    "    n_jobs=20,\n",
    "    random_state=42,\n",
    "    colsample_bytree=0.6,\n",
    "    learning_rate=0.1,\n",
    "    max_depth=3,  # Use a simpler model for the meta-classifier\n",
    "    n_estimators=100,\n",
    "    reg_alpha=0.1,\n",
    "    reg_lambda=1.0,\n",
    "    subsample=0.75\n",
    ")\n",
    "\n",
    "cv = StratifiedKFold(n_splits=5, shuffle=True, random_state=42)\n",
    "\n",
    "# Create the StackingClassifier\n",
    "stacking_clf = StackingClassifier(\n",
    "    estimators=estimators,\n",
    "    final_estimator=meta_classifier,\n",
    "    cv=cv,\n",
    "    n_jobs=24\n",
    ")\n",
    "\n",
    "# Train the StackingClassifier\n",
    "stacking_clf.fit(X_train_combined3, y_train3)\n",
    "\n",
    "# Make predictions\n",
    "y_pred = stacking_clf.predict(X_test_combined3)\n",
    "y_pred_train = stacking_clf.predict(X_train_combined3)\n",
    "\n",
    "# Evaluate the model\n",
    "test_accuracy = accuracy_score(y_test3, y_pred)\n",
    "train_accuracy = accuracy_score(y_train3, y_pred_train)\n",
    "\n",
    "print(f\"Training Accuracy: {train_accuracy:.4f}\")\n",
    "print(f\"Test Accuracy: {test_accuracy:.4f}\")\n",
    "print(classification_report(y_test3, y_pred))"
   ]
  },
  {
   "cell_type": "markdown",
   "id": "afed38d5-7229-43c0-97f1-31d27680e7ca",
   "metadata": {},
   "source": [
    "## Drop Personality Disorder and Stress, Combine Depression and Suicidal"
   ]
  },
  {
   "cell_type": "markdown",
   "id": "1feaf44f-e8c2-4b56-8a91-cf27fbf79a77",
   "metadata": {},
   "source": [
    "Personality Disorder and Stress have a small number of instances in the dataset, so we will drop them. Depression and Suicidal share overlapping characteristics, so we will combine them into one class."
   ]
  },
  {
   "cell_type": "code",
   "execution_count": 248,
   "id": "6a7e39c1-814f-4e5d-a162-01bdc7d1d531",
   "metadata": {},
   "outputs": [
    {
     "name": "stdout",
     "output_type": "stream",
     "text": [
      "status_combined\n",
      "2    25406\n",
      "3    13590\n",
      "0     3571\n",
      "1     2501\n",
      "Name: count, dtype: int64\n"
     ]
    }
   ],
   "source": [
    "# Create a new dataframe to keep the original data intact\n",
    "data_modified2 = data.copy()\n",
    "\n",
    "# Combine class 0 and 5 into one class, and 2 and 6 into another class\n",
    "class_mapping = {\n",
    "    0: 0,  # Keep class 0 as it is\n",
    "    2: 2, 6: 2,  # Combine classes 2 and 6 into class 2\n",
    "    1: 1,        # Keep class 1 as it is\n",
    "    3: 3,        # Keep class 3 as it is\n",
    "    4: 4,         # Keep class 4 as it is for now\n",
    "    5:5    # Keep class 5 as it is for now\n",
    "}\n",
    "\n",
    "# Replace class labels in the new dataframe\n",
    "data_modified2['status_combined'] = data_modified2['status_encoded'].replace(class_mapping)\n",
    "\n",
    "# Drop rows where the class is 4,5 from the new dataframe\n",
    "data_filtered2 = data_modified2[(data_modified2['status_combined'] != 4) & (data_modified2['status_combined'] != 5)]\n",
    "\n",
    "# Print the distribution of the new classes\n",
    "print(data_filtered2['status_combined'].value_counts())"
   ]
  },
  {
   "cell_type": "code",
   "execution_count": 252,
   "id": "18caf751-48b6-43f7-9c84-6f7c1792d922",
   "metadata": {},
   "outputs": [],
   "source": [
    "X_train4, X_test4, y_train4, y_test4 = train_test_split(data_filtered2[['statement','stemmed','stemmed word count','lemmatized']], data_filtered2['status_combined'], test_size=0.2, random_state=42,stratify = data_filtered2['status_combined'])"
   ]
  },
  {
   "cell_type": "code",
   "execution_count": 254,
   "id": "3293bc37-d82f-4329-ab7d-5ea1a391f86c",
   "metadata": {},
   "outputs": [
    {
     "name": "stdout",
     "output_type": "stream",
     "text": [
      "X_train_tfidf shape:  (36054, 5000)\n",
      "X_test_tfidf shape:  (9014, 5000)\n"
     ]
    }
   ],
   "source": [
    "tfidf = TfidfVectorizer(max_features=5000, ngram_range=(1, 2),min_df=10, stop_words='english')\n",
    "X_train_tfidf4 = tfidf.fit_transform(X_train4['stemmed'])\n",
    "X_test_tfidf4 = tfidf.transform(X_test4['stemmed'])\n",
    "\n",
    "print('X_train_tfidf shape: ', X_train_tfidf4.shape)\n",
    "print('X_test_tfidf shape: ', X_test_tfidf4.shape)"
   ]
  },
  {
   "cell_type": "code",
   "execution_count": 256,
   "id": "1dfa899c-b16c-4794-90dc-55c62f66bf3e",
   "metadata": {},
   "outputs": [
    {
     "name": "stdout",
     "output_type": "stream",
     "text": [
      "X_train_combined shape:  (36054, 5001)\n",
      "X_test_combined shape:  (9014, 5001)\n"
     ]
    }
   ],
   "source": [
    "# Ensure 'stemmed word count' is reshaped as a 2D array and convert it to sparse format\n",
    "X_train_word_count4 = X_train4[['stemmed word count']].values\n",
    "X_test_word_count4 = X_test4[['stemmed word count']].values\n",
    "\n",
    "# Combine TF-IDF features with the stemmed word count feature\n",
    "X_train_combined4 = hstack([X_train_tfidf4, X_train_word_count4])\n",
    "X_test_combined4 = hstack([X_test_tfidf4, X_test_word_count4])\n",
    "\n",
    "print('X_train_combined shape: ', X_train_combined4.shape)\n",
    "print('X_test_combined shape: ', X_test_combined4.shape)"
   ]
  },
  {
   "cell_type": "code",
   "execution_count": 258,
   "id": "8598e4c9-3a62-4250-affb-55ec6d94038b",
   "metadata": {},
   "outputs": [
    {
     "name": "stdout",
     "output_type": "stream",
     "text": [
      "Training Accuracy: 0.9435\n",
      "Test Accuracy: 0.9239\n",
      "              precision    recall  f1-score   support\n",
      "\n",
      "           0       0.88      0.85      0.87       714\n",
      "           1       0.88      0.78      0.83       500\n",
      "           2       0.94      0.95      0.94      5082\n",
      "           3       0.91      0.92      0.92      2718\n",
      "\n",
      "    accuracy                           0.92      9014\n",
      "   macro avg       0.90      0.88      0.89      9014\n",
      "weighted avg       0.92      0.92      0.92      9014\n",
      "\n"
     ]
    }
   ],
   "source": [
    "# Initialize the individual models\n",
    "log_reg = LogisticRegression(max_iter=10000, class_weight='balanced', solver='lbfgs')\n",
    "linear_svc = LinearSVC(C=0.2, class_weight='balanced', dual=False, loss='squared_hinge', max_iter=1000, penalty='l1')\n",
    "nb = MultinomialNB(alpha=0.1, fit_prior=True)\n",
    "rf = RandomForestClassifier(class_weight='balanced', n_jobs=20, random_state=42, max_depth=30,\n",
    "                            max_features='sqrt', min_samples_leaf=2, min_samples_split=5, n_estimators=500,max_samples=0.75)\n",
    "xgb_clf = xgb.XGBClassifier(n_jobs=24, random_state=42, colsample_bytree=0.7, learning_rate=0.05, max_depth=4,\n",
    "                            n_estimators=500, reg_alpha=1.0, reg_lambda=0.5, subsample=1.0,gamma=0.1)\n",
    "\n",
    "# Define the base models for stacking\n",
    "estimators = [\n",
    "    ('log_reg', log_reg),\n",
    "    ('linear_svc', linear_svc),\n",
    "    ('nb', nb),\n",
    "    ('rf', rf),\n",
    "    ('xgb', xgb_clf)\n",
    "]\n",
    "\n",
    "# The meta-classifier is now an XGBoost classifier\n",
    "meta_classifier = xgb.XGBClassifier(\n",
    "    n_jobs=20,\n",
    "    random_state=42,\n",
    "    colsample_bytree=0.6,\n",
    "    learning_rate=0.1,\n",
    "    max_depth=3,  # Use a simpler model for the meta-classifier\n",
    "    n_estimators=100,\n",
    "    reg_alpha=0.1,\n",
    "    reg_lambda=1.0,\n",
    "    subsample=0.75\n",
    ")\n",
    "\n",
    "cv = StratifiedKFold(n_splits=5, shuffle=True, random_state=42)\n",
    "\n",
    "# Create the StackingClassifier\n",
    "stacking_clf = StackingClassifier(\n",
    "    estimators=estimators,\n",
    "    final_estimator=meta_classifier,\n",
    "    cv=cv,\n",
    "    n_jobs=24\n",
    ")\n",
    "\n",
    "# Train the StackingClassifier\n",
    "stacking_clf.fit(X_train_combined4, y_train4)\n",
    "\n",
    "# Make predictions\n",
    "y_pred = stacking_clf.predict(X_test_combined4)\n",
    "y_pred_train = stacking_clf.predict(X_train_combined4)\n",
    "\n",
    "# Evaluate the model\n",
    "test_accuracy = accuracy_score(y_test4, y_pred)\n",
    "train_accuracy = accuracy_score(y_train4, y_pred_train)\n",
    "\n",
    "print(f\"Training Accuracy: {train_accuracy:.4f}\")\n",
    "print(f\"Test Accuracy: {test_accuracy:.4f}\")\n",
    "print(classification_report(y_test4, y_pred))"
   ]
  },
  {
   "cell_type": "code",
   "execution_count": 275,
   "id": "aebe693d-b9e0-46b2-a8f4-f9376222c168",
   "metadata": {},
   "outputs": [
    {
     "data": {
      "image/png": "[encoded data removed]",
      "text/plain": [
       "<Figure size 800x600 with 2 Axes>"
      ]
     },
     "metadata": {},
     "output_type": "display_data"
    }
   ],
   "source": [
    "# Generate confusion matrix\n",
    "cm = confusion_matrix(y_test4, y_pred)\n",
    "\n",
    "class_names = np.array(['Anxiety', 'Bipolar', 'Depression-Suicidal', 'Normal'], dtype=object)\n",
    "# Plot confusion matrix\n",
    "plt.figure(figsize=(8, 6))\n",
    "sns.heatmap(cm, annot=True, fmt=\"d\", cmap=\"Blues\", xticklabels=class_names, yticklabels=class_names)\n",
    "plt.xlabel('Predicted')\n",
    "plt.ylabel('Actual')\n",
    "plt.title('Confusion Matrix for Naive Byaes with BOW')\n",
    "plt.show()"
   ]
  },
  {
   "cell_type": "markdown",
   "id": "8c819d57-1557-4fa9-bcf8-a1902036c427",
   "metadata": {},
   "source": [
    "## Cross Validation Analysis"
   ]
  },
  {
   "cell_type": "code",
   "execution_count": 278,
   "id": "f543d6da-520d-4d3a-b796-cd86c6885101",
   "metadata": {},
   "outputs": [
    {
     "name": "stdout",
     "output_type": "stream",
     "text": [
      "Cross-Validation Scores for each fold: [0.9191513  0.92372764 0.92469838 0.91845791 0.92801664]\n",
      "Mean Cross-Validation Accuracy: 0.9228\n",
      "Standard Deviation of Cross-Validation Accuracy: 0.0036\n"
     ]
    }
   ],
   "source": [
    "# Initialize K-Fold Cross-Validation\n",
    "kf = KFold(n_splits=5, shuffle=True, random_state=42)  # 5-fold cross-validation with shuffling\n",
    "\n",
    "# Perform cross-validation\n",
    "cv_scores = cross_val_score(stacking_clf, X_train_combined4, y_train4, cv=kf, scoring='accuracy', n_jobs=24)\n",
    "\n",
    "# Print the cross-validation scores for each fold\n",
    "print(\"Cross-Validation Scores for each fold:\", cv_scores)\n",
    "\n",
    "# Print the mean and standard deviation of the cross-validation scores\n",
    "print(f\"Mean Cross-Validation Accuracy: {np.mean(cv_scores):.4f}\")\n",
    "print(f\"Standard Deviation of Cross-Validation Accuracy: {np.std(cv_scores):.4f}\")"
   ]
  },
  {
   "cell_type": "markdown",
   "id": "48cc54a5-4af2-459f-a64e-8de5a940a3c2",
   "metadata": {},
   "source": [
    "By dropping classes with few instances and combining those with overlapping characteristics, we increased the accuracy to over 92%. The cross-validation results are consistent across different training sets, which is encouraging."
   ]
  },
  {
   "cell_type": "markdown",
   "id": "bf9d02de-7840-4eec-99fd-662665aa2677",
   "metadata": {},
   "source": [
    "## Training Time"
   ]
  },
  {
   "cell_type": "markdown",
   "id": "dcf26324-26ac-4850-807a-3894a0d859c0",
   "metadata": {},
   "source": [
    "The training time for the best model, Stacking Classifier is around 20-30 minutes. "
   ]
  },
  {
   "cell_type": "code",
   "execution_count": null,
   "id": "652543f5-ff0b-4377-aa4c-68dfee59fa6b",
   "metadata": {},
   "outputs": [],
   "source": []
  }
 ],
 "metadata": {
  "kernelspec": {
   "display_name": "Python 3 (ipykernel)",
   "language": "python",
   "name": "python3"
  },
  "language_info": {
   "codemirror_mode": {
    "name": "ipython",
    "version": 3
   },
   "file_extension": ".py",
   "mimetype": "text/x-python",
   "name": "python",
   "nbconvert_exporter": "python",
   "pygments_lexer": "ipython3",
   "version": "3.12.4"
  }
 },
 "nbformat": 4,
 "nbformat_minor": 5
}
