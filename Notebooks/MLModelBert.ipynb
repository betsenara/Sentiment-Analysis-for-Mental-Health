{
 "cells": [
  {
   "cell_type": "code",
   "execution_count": 1,
   "id": "2b919c2e-2778-4be5-ba6e-d0efd88fadcb",
   "metadata": {},
   "outputs": [
    {
     "name": "stdout",
     "output_type": "stream",
     "text": [
      "PyTorch version: 2.4.1\n",
      "Is CUDA available?: True\n",
      "CUDA device name: NVIDIA GeForce RTX 4070\n"
     ]
    }
   ],
   "source": [
    "import torch\n",
    "print(\"PyTorch version:\", torch.__version__)\n",
    "print(\"Is CUDA available?:\", torch.cuda.is_available())\n",
    "if torch.cuda.is_available():\n",
    "    print(\"CUDA device name:\", torch.cuda.get_device_name(0))"
   ]
  },
  {
   "cell_type": "code",
   "execution_count": 46,
   "id": "41194354-7fdc-4749-bb2f-0f512daa1d45",
   "metadata": {},
   "outputs": [],
   "source": [
    "from transformers import BertTokenizer, BertForSequenceClassification\n",
    "import torch\n",
    "import torch.nn as nn\n",
    "import torch.optim as optim\n",
    "from torch.utils.data import DataLoader, TensorDataset, Subset\n",
    "from torch.optim.lr_scheduler import ReduceLROnPlateau\n",
    "from tqdm import tqdm  # For progress bar\n",
    "import pandas as pd\n",
    "import numpy as np\n",
    "from sklearn.model_selection import train_test_split, KFold\n",
    "from sklearn.preprocessing import LabelEncoder\n",
    "from sklearn.metrics import accuracy_score, classification_report\n",
    "import matplotlib.pyplot as plt\n",
    "import re"
   ]
  },
  {
   "cell_type": "code",
   "execution_count": 8,
   "id": "5a0bda21-df7f-49a3-a7bd-da52943e6fd2",
   "metadata": {},
   "outputs": [],
   "source": [
    "# read data\n",
    "data = pd.read_csv('data_clean.csv', encoding='latin-1')"
   ]
  },
  {
   "cell_type": "code",
   "execution_count": 11,
   "id": "e2f61141-0daa-4b5d-8690-99dfd7845d1e",
   "metadata": {},
   "outputs": [],
   "source": [
    "# Text cleaning function for BERT\n",
    "def text_clean_for_bert(text):\n",
    "    text = re.sub(r'\\S+@\\S+', '', text)  # remove emails\n",
    "    text = re.sub(r'https?://\\S+|www\\.\\S+', '', text)  # remove URLs\n",
    "    text = re.sub(r'\\d+', '', text)  # remove numbers\n",
    "    # Remove emojis (optional)\n",
    "    emoji_pattern = re.compile(\"[\" \n",
    "                               u\"\\U0001F600-\\U0001F64F\"  # emoticons\n",
    "                               u\"\\U0001F300-\\U0001F5FF\"  # symbols & pictographs\n",
    "                               u\"\\U0001F680-\\U0001F6FF\"  # transport & map symbols\n",
    "                               u\"\\U0001F700-\\U0001F77F\"  # alchemical symbols\n",
    "                               u\"\\U0001F780-\\U0001F7FF\"  # geometric shapes extended\n",
    "                               u\"\\U0001F800-\\U0001F8FF\"  # supplemental arrows\n",
    "                               u\"\\U0001F900-\\U0001F9FF\"  # supplemental symbols & pictographs\n",
    "                               u\"\\U0001FA00-\\U0001FA6F\"  # chess symbols\n",
    "                               u\"\\U0001FA70-\\U0001FAFF\"  # symbols and pictographs extended\n",
    "                               u\"\\U00002702-\\U000027B0\"  # Dingbats\n",
    "                               u\"\\U000024C2-\\U0001F251\"  # Enclosed characters\n",
    "                               \"]+\", flags=re.UNICODE)\n",
    "    text = emoji_pattern.sub(r'', text)\n",
    "    \n",
    "    # We keep punctuation for BERT, no need to tokenize manually\n",
    "    return text.strip()"
   ]
  },
  {
   "cell_type": "code",
   "execution_count": 13,
   "id": "aa85d4a9-1c27-4714-830f-e654087e0cda",
   "metadata": {},
   "outputs": [],
   "source": [
    "data['bert_clean'] = data['statement'].apply(text_clean_for_bert)"
   ]
  },
  {
   "cell_type": "code",
   "execution_count": 15,
   "id": "7974aa83-65cf-4839-964e-a21147e8e84e",
   "metadata": {},
   "outputs": [],
   "source": [
    "encoder = LabelEncoder()\n",
    "data.loc[:, 'status_encoded'] = encoder.fit_transform(data['status'])"
   ]
  },
  {
   "cell_type": "code",
   "execution_count": 17,
   "id": "6144f05a-1e20-4109-81de-6620783217f4",
   "metadata": {},
   "outputs": [
    {
     "name": "stdout",
     "output_type": "stream",
     "text": [
      "Category mapping: {'Anxiety': 0, 'Bipolar': 1, 'Depression': 2, 'Normal': 3, 'Personality disorder': 4, 'Stress': 5, 'Suicidal': 6}\n"
     ]
    }
   ],
   "source": [
    "class_names = encoder.classes_\n",
    "category_mapping = dict(zip(class_names, range(len(class_names))))\n",
    "\n",
    "print(\"Category mapping:\", category_mapping)"
   ]
  },
  {
   "cell_type": "markdown",
   "id": "869c68ce-f718-4b21-9fcc-1652006b80f2",
   "metadata": {},
   "source": [
    "## Train Test Splitting"
   ]
  },
  {
   "cell_type": "code",
   "execution_count": 19,
   "id": "9faea3a5-d154-4083-927f-44030ff32ca0",
   "metadata": {},
   "outputs": [],
   "source": [
    "X_train, X_test, y_train, y_test = train_test_split(data['bert_clean'], data['status_encoded'], test_size=0.2, random_state=42,stratify = data['status_encoded'])"
   ]
  },
  {
   "cell_type": "markdown",
   "id": "373cffde-b0e4-40f8-a259-4b31afc00316",
   "metadata": {},
   "source": [
    "## Tokenize Data"
   ]
  },
  {
   "cell_type": "code",
   "execution_count": 75,
   "id": "5676b0de-bf23-4bf5-9821-4cb14422182c",
   "metadata": {},
   "outputs": [
    {
     "name": "stderr",
     "output_type": "stream",
     "text": [
      "C:\\Users\\Betul\\anaconda3\\envs\\pytorch_env\\Lib\\site-packages\\transformers\\tokenization_utils_base.py:1601: FutureWarning: `clean_up_tokenization_spaces` was not set. It will be set to `True` by default. This behavior will be depracted in transformers v4.45, and will be then set to `False` by default. For more details check this issue: https://github.com/huggingface/transformers/issues/31884\n",
      "  warnings.warn(\n"
     ]
    }
   ],
   "source": [
    "# Load the pre-trained BERT tokenizer\n",
    "tokenizer = BertTokenizer.from_pretrained('bert-base-uncased')\n",
    "\n",
    "# Tokenization function with long labels\n",
    "def tokenize_data(texts, labels, max_len=256):\n",
    "    inputs = tokenizer(\n",
    "        texts.tolist(),  # Convert to list if it's a pandas Series or NumPy array\n",
    "        padding=True, \n",
    "        truncation=True, \n",
    "        max_length=max_len, \n",
    "        return_tensors=\"pt\"\n",
    "    )\n",
    "    # Convert labels to long type\n",
    "    dataset = TensorDataset(inputs['input_ids'], inputs['attention_mask'], torch.tensor(labels.values, dtype=torch.long))\n",
    "    return dataset\n",
    "\n",
    "y_train = y_train.astype(int)\n",
    "y_test = y_test.astype(int)\n",
    "\n",
    "# Tokenize X_train and X_test\n",
    "train_dataset = tokenize_data(X_train, y_train)\n",
    "test_dataset = tokenize_data(X_test, y_test)\n",
    "\n",
    "# Create DataLoaders for batching\n",
    "train_loader = DataLoader(train_dataset, batch_size=32, shuffle=True)\n",
    "test_loader = DataLoader(test_dataset, batch_size=32, shuffle=False)"
   ]
  },
  {
   "cell_type": "code",
   "execution_count": 29,
   "id": "38d3b902-00ec-487b-b0a6-9fa32ea16012",
   "metadata": {},
   "outputs": [
    {
     "name": "stderr",
     "output_type": "stream",
     "text": [
      "C:\\Users\\Betul\\anaconda3\\envs\\pytorch_env\\Lib\\site-packages\\transformers\\tokenization_utils_base.py:1601: FutureWarning: `clean_up_tokenization_spaces` was not set. It will be set to `True` by default. This behavior will be depracted in transformers v4.45, and will be then set to `False` by default. For more details check this issue: https://github.com/huggingface/transformers/issues/31884\n",
      "  warnings.warn(\n",
      "Some weights of BertForSequenceClassification were not initialized from the model checkpoint at bert-base-uncased and are newly initialized: ['classifier.bias', 'classifier.weight']\n",
      "You should probably TRAIN this model on a down-stream task to be able to use it for predictions and inference.\n",
      "C:\\Users\\Betul\\anaconda3\\envs\\pytorch_env\\Lib\\site-packages\\torch\\optim\\lr_scheduler.py:60: UserWarning: The verbose parameter is deprecated. Please use get_last_lr() to access the learning rate.\n",
      "  warnings.warn(\n"
     ]
    },
    {
     "name": "stdout",
     "output_type": "stream",
     "text": [
      "Epoch 1/10\n",
      "Train Loss: 0.7344, Train Accuracy: 71.53%\n",
      "Val Loss: 0.4883, Val Accuracy: 80.30%\n",
      "Epoch 2/10\n",
      "Train Loss: 0.4316, Train Accuracy: 82.77%\n",
      "Val Loss: 0.4325, Val Accuracy: 82.52%\n",
      "Epoch 3/10\n",
      "Train Loss: 0.3487, Train Accuracy: 85.95%\n",
      "Val Loss: 0.4380, Val Accuracy: 82.64%\n",
      "Epoch 4/10\n",
      "Train Loss: 0.2836, Train Accuracy: 88.60%\n",
      "Val Loss: 0.4376, Val Accuracy: 82.52%\n",
      "Early stopping\n",
      "Final Training Accuracy: 93.13%\n",
      "Final Test Accuracy: 82.52%\n"
     ]
    }
   ],
   "source": [
    "# Define EarlyStopping class\n",
    "class EarlyStopping:\n",
    "    def __init__(self, patience=2, min_delta=0.001):\n",
    "        self.patience = patience\n",
    "        self.min_delta = min_delta\n",
    "        self.best_val_loss = None\n",
    "        self.counter = 0\n",
    "        self.early_stop = False\n",
    "\n",
    "    def __call__(self, val_loss):\n",
    "        if self.best_val_loss is None:\n",
    "            self.best_val_loss = val_loss\n",
    "        elif val_loss < self.best_val_loss - self.min_delta:\n",
    "            self.best_val_loss = val_loss\n",
    "            self.counter = 0  # Reset the counter if validation loss improves\n",
    "        else:\n",
    "            self.counter += 1\n",
    "            if self.counter >= self.patience:\n",
    "                self.early_stop = True  # Stop training if patience is exceeded\n",
    "\n",
    "# Function to evaluate model on a given dataset\n",
    "def evaluate(model, data_loader):\n",
    "    model.eval()  # Set the model to evaluation mode\n",
    "    total_loss, total_correct, total_samples = 0, 0, 0\n",
    "\n",
    "    with torch.no_grad():\n",
    "        for input_ids, attention_mask, labels in data_loader:\n",
    "            # Move inputs and labels to device\n",
    "            input_ids, attention_mask, labels = input_ids.to(device), attention_mask.to(device), labels.to(device)\n",
    "            \n",
    "            # Make predictions\n",
    "            outputs = model(input_ids, attention_mask=attention_mask)\n",
    "            loss = loss_fn(outputs.logits, labels)\n",
    "            \n",
    "            total_loss += loss.item()\n",
    "            preds = torch.argmax(outputs.logits, dim=-1)\n",
    "            total_correct += (preds == labels).sum().item()\n",
    "            total_samples += labels.size(0)\n",
    "\n",
    "    avg_loss = total_loss / len(data_loader)\n",
    "    accuracy = total_correct / total_samples\n",
    "    return avg_loss, accuracy\n",
    "\n",
    "\n",
    "# Load the pre-trained BERT model and tokenizer\n",
    "model_name = 'bert-base-uncased'\n",
    "tokenizer = BertTokenizer.from_pretrained(model_name)\n",
    "model = BertForSequenceClassification.from_pretrained(model_name, num_labels=7)\n",
    "model.config.hidden_dropout_prob = 0.3  # Ensure dropout is set\n",
    "\n",
    "# Move model to GPU if available\n",
    "device = torch.device('cuda' if torch.cuda.is_available() else 'cpu')\n",
    "model.to(device)\n",
    "\n",
    "# Set model to training mode\n",
    "model.train()\n",
    "\n",
    "# Define optimizer with weight decay\n",
    "optimizer = torch.optim.AdamW(model.parameters(), lr=1e-5, weight_decay=0.01)\n",
    "# Define loss function\n",
    "loss_fn = torch.nn.CrossEntropyLoss()\n",
    "\n",
    "# Define learning rate scheduler (ReduceLROnPlateau)\n",
    "scheduler = ReduceLROnPlateau(optimizer, mode='min', factor=0.1, patience=2, min_lr=1e-6, verbose=True)\n",
    "\n",
    "# Instantiate EarlyStopping\n",
    "early_stopping = EarlyStopping(patience=2, min_delta=0.001)\n",
    "\n",
    "# Lists to store loss and accuracy values for each epoch\n",
    "train_losses = []\n",
    "val_losses = []\n",
    "train_accuracies = []\n",
    "val_accuracies = []\n",
    "\n",
    "# Fine-tuning loop with early stopping and learning rate scheduling\n",
    "num_epochs = 10\n",
    "for epoch in range(num_epochs):\n",
    "    model.train()\n",
    "    total_loss, total_correct, total_samples = 0, 0, 0\n",
    "    \n",
    "    for input_ids, attention_mask, labels in train_loader:\n",
    "        input_ids, attention_mask, labels = input_ids.to(device), attention_mask.to(device), labels.to(device)\n",
    "        \n",
    "        optimizer.zero_grad()\n",
    "        outputs = model(input_ids, attention_mask=attention_mask)\n",
    "        loss = loss_fn(outputs.logits, labels)\n",
    "        \n",
    "        loss.backward()\n",
    "        optimizer.step()\n",
    "        \n",
    "        total_loss += loss.item()\n",
    "        preds = torch.argmax(outputs.logits, dim=-1)\n",
    "        total_correct += (preds == labels).sum().item()\n",
    "        total_samples += labels.size(0)\n",
    "\n",
    "    avg_train_loss = total_loss / len(train_loader)\n",
    "    train_accuracy = total_correct / total_samples\n",
    "\n",
    "    # Append the training loss and accuracy\n",
    "    train_losses.append(avg_train_loss)\n",
    "    train_accuracies.append(train_accuracy)\n",
    "\n",
    "    # Evaluate on validation set\n",
    "    val_loss, val_accuracy = evaluate(model, test_loader)\n",
    "    val_losses.append(val_loss)\n",
    "    val_accuracies.append(val_accuracy)\n",
    "\n",
    "    print(f'Epoch {epoch+1}/{num_epochs}')\n",
    "    print(f'Train Loss: {avg_train_loss:.4f}, Train Accuracy: {train_accuracy * 100:.2f}%')\n",
    "    print(f'Val Loss: {val_loss:.4f}, Val Accuracy: {val_accuracy * 100:.2f}%')\n",
    "\n",
    "    # Early stopping check\n",
    "    early_stopping(val_loss)\n",
    "    if early_stopping.early_stop:\n",
    "        print(\"Early stopping\")\n",
    "        break\n",
    "\n",
    "    # Adjust learning rate if validation loss plateaus\n",
    "    scheduler.step(val_loss)\n",
    "\n",
    "    # Clear GPU memory\n",
    "    torch.cuda.empty_cache()\n",
    "\n",
    "# After training, evaluate final performance\n",
    "train_loss, train_accuracy = evaluate(model, train_loader)\n",
    "test_loss, test_accuracy = evaluate(model, test_loader)\n",
    "\n",
    "print(f'Final Training Accuracy: {train_accuracy * 100:.2f}%')\n",
    "print(f'Final Test Accuracy: {test_accuracy * 100:.2f}%')\n"
   ]
  },
  {
   "cell_type": "code",
   "execution_count": 31,
   "id": "43964ff5-1a1d-4e79-bd1b-e2fd4ed7a9f2",
   "metadata": {},
   "outputs": [
    {
     "data": {
      "image/png": "[encoded data removed]",
      "text/plain": [
       "<Figure size 1000x600 with 1 Axes>"
      ]
     },
     "metadata": {},
     "output_type": "display_data"
    },
    {
     "data": {
      "image/png": "[encoded data removed]",
      "text/plain": [
       "<Figure size 1000x600 with 1 Axes>"
      ]
     },
     "metadata": {},
     "output_type": "display_data"
    }
   ],
   "source": [
    "# Create a range for the x-axis starting from 1\n",
    "epochs = range(1, len(train_losses) + 1)\n",
    "\n",
    "# Plot Train vs Validation Loss graph\n",
    "plt.figure(figsize=(10,6))\n",
    "plt.plot(epochs, train_losses, label='Training Loss')\n",
    "plt.plot(epochs, val_losses, label='Validation Loss')\n",
    "plt.xlabel('Epoch')\n",
    "plt.ylabel('Loss')\n",
    "plt.title('Training vs Validation Loss')\n",
    "plt.xticks(epochs)  # Ensure x-axis ticks correspond to epoch numbers starting from 1\n",
    "plt.legend()\n",
    "plt.show()\n",
    "\n",
    "# Plot Train vs Validation Accuracy graph\n",
    "plt.figure(figsize=(10,6))\n",
    "plt.plot(epochs, train_accuracies, label='Training Accuracy')\n",
    "plt.plot(epochs, val_accuracies, label='Validation Accuracy')\n",
    "plt.xlabel('Epoch')\n",
    "plt.ylabel('Accuracy')\n",
    "plt.title('Training vs Validation Accuracy')\n",
    "plt.xticks(epochs)  # Ensure x-axis ticks correspond to epoch numbers starting from 1\n",
    "plt.legend()\n",
    "plt.show()\n"
   ]
  },
  {
   "cell_type": "markdown",
   "id": "52b98e71-b5e5-44ce-a293-971d474c2e2e",
   "metadata": {},
   "source": [
    "At the second epoch validation loss is minimized. We will rerun two epochs and then decrease learning rate."
   ]
  },
  {
   "cell_type": "code",
   "execution_count": 34,
   "id": "4fb4c704-e411-4aa9-8538-81e91454da7f",
   "metadata": {},
   "outputs": [
    {
     "name": "stderr",
     "output_type": "stream",
     "text": [
      "C:\\Users\\Betul\\anaconda3\\envs\\pytorch_env\\Lib\\site-packages\\transformers\\tokenization_utils_base.py:1601: FutureWarning: `clean_up_tokenization_spaces` was not set. It will be set to `True` by default. This behavior will be depracted in transformers v4.45, and will be then set to `False` by default. For more details check this issue: https://github.com/huggingface/transformers/issues/31884\n",
      "  warnings.warn(\n",
      "Some weights of BertForSequenceClassification were not initialized from the model checkpoint at bert-base-uncased and are newly initialized: ['classifier.bias', 'classifier.weight']\n",
      "You should probably TRAIN this model on a down-stream task to be able to use it for predictions and inference.\n",
      "C:\\Users\\Betul\\anaconda3\\envs\\pytorch_env\\Lib\\site-packages\\torch\\optim\\lr_scheduler.py:60: UserWarning: The verbose parameter is deprecated. Please use get_last_lr() to access the learning rate.\n",
      "  warnings.warn(\n"
     ]
    },
    {
     "name": "stdout",
     "output_type": "stream",
     "text": [
      "Epoch 1/2\n",
      "Train Loss: 0.7464, Train Accuracy: 71.58%\n",
      "Val Loss: 0.4901, Val Accuracy: 80.32%\n",
      "Epoch 2/2\n",
      "Train Loss: 0.4376, Train Accuracy: 82.54%\n",
      "Val Loss: 0.4265, Val Accuracy: 82.11%\n",
      "Final Training Accuracy: 86.89%\n",
      "Final Test Accuracy: 82.11%\n"
     ]
    }
   ],
   "source": [
    "# Define EarlyStopping class\n",
    "class EarlyStopping:\n",
    "    def __init__(self, patience=2, min_delta=0.001):\n",
    "        self.patience = patience\n",
    "        self.min_delta = min_delta\n",
    "        self.best_val_loss = None\n",
    "        self.counter = 0\n",
    "        self.early_stop = False\n",
    "\n",
    "    def __call__(self, val_loss):\n",
    "        if self.best_val_loss is None:\n",
    "            self.best_val_loss = val_loss\n",
    "        elif val_loss < self.best_val_loss - self.min_delta:\n",
    "            self.best_val_loss = val_loss\n",
    "            self.counter = 0  # Reset the counter if validation loss improves\n",
    "        else:\n",
    "            self.counter += 1\n",
    "            if self.counter >= self.patience:\n",
    "                self.early_stop = True  # Stop training if patience is exceeded\n",
    "\n",
    "# Function to evaluate model on a given dataset\n",
    "def evaluate(model, data_loader):\n",
    "    model.eval()  # Set the model to evaluation mode\n",
    "    total_loss, total_correct, total_samples = 0, 0, 0\n",
    "\n",
    "    with torch.no_grad():\n",
    "        for input_ids, attention_mask, labels in data_loader:\n",
    "            # Move inputs and labels to device\n",
    "            input_ids, attention_mask, labels = input_ids.to(device), attention_mask.to(device), labels.to(device)\n",
    "            \n",
    "            # Make predictions\n",
    "            outputs = model(input_ids, attention_mask=attention_mask)\n",
    "            loss = loss_fn(outputs.logits, labels)\n",
    "            \n",
    "            total_loss += loss.item()\n",
    "            preds = torch.argmax(outputs.logits, dim=-1)\n",
    "            total_correct += (preds == labels).sum().item()\n",
    "            total_samples += labels.size(0)\n",
    "\n",
    "    avg_loss = total_loss / len(data_loader)\n",
    "    accuracy = total_correct / total_samples\n",
    "    return avg_loss, accuracy\n",
    "\n",
    "\n",
    "# Load the pre-trained BERT model and tokenizer\n",
    "model_name = 'bert-base-uncased'\n",
    "tokenizer = BertTokenizer.from_pretrained(model_name)\n",
    "model = BertForSequenceClassification.from_pretrained(model_name, num_labels=7)\n",
    "model.config.hidden_dropout_prob = 0.3  # Ensure dropout is set\n",
    "\n",
    "# Move model to GPU if available\n",
    "device = torch.device('cuda' if torch.cuda.is_available() else 'cpu')\n",
    "model.to(device)\n",
    "\n",
    "# Set model to training mode\n",
    "model.train()\n",
    "\n",
    "# Define optimizer with weight decay\n",
    "optimizer = torch.optim.AdamW(model.parameters(), lr=1e-5, weight_decay=0.01)\n",
    "# Define loss function\n",
    "loss_fn = torch.nn.CrossEntropyLoss()\n",
    "\n",
    "# Define learning rate scheduler (ReduceLROnPlateau)\n",
    "scheduler = ReduceLROnPlateau(optimizer, mode='min', factor=0.1, patience=2, min_lr=1e-6, verbose=True)\n",
    "\n",
    "# Instantiate EarlyStopping\n",
    "early_stopping = EarlyStopping(patience=2, min_delta=0.001)\n",
    "\n",
    "# Lists to store loss and accuracy values for each epoch\n",
    "train_losses = []\n",
    "val_losses = []\n",
    "train_accuracies = []\n",
    "val_accuracies = []\n",
    "\n",
    "# Fine-tuning loop with early stopping and learning rate scheduling\n",
    "num_epochs = 2\n",
    "for epoch in range(num_epochs):\n",
    "    model.train()\n",
    "    total_loss, total_correct, total_samples = 0, 0, 0\n",
    "    \n",
    "    for input_ids, attention_mask, labels in train_loader:\n",
    "        input_ids, attention_mask, labels = input_ids.to(device), attention_mask.to(device), labels.to(device)\n",
    "        \n",
    "        optimizer.zero_grad()\n",
    "        outputs = model(input_ids, attention_mask=attention_mask)\n",
    "        loss = loss_fn(outputs.logits, labels)\n",
    "        \n",
    "        loss.backward()\n",
    "        optimizer.step()\n",
    "        \n",
    "        total_loss += loss.item()\n",
    "        preds = torch.argmax(outputs.logits, dim=-1)\n",
    "        total_correct += (preds == labels).sum().item()\n",
    "        total_samples += labels.size(0)\n",
    "\n",
    "    avg_train_loss = total_loss / len(train_loader)\n",
    "    train_accuracy = total_correct / total_samples\n",
    "\n",
    "    # Append the training loss and accuracy\n",
    "    train_losses.append(avg_train_loss)\n",
    "    train_accuracies.append(train_accuracy)\n",
    "\n",
    "    # Evaluate on validation set\n",
    "    val_loss, val_accuracy = evaluate(model, test_loader)\n",
    "    val_losses.append(val_loss)\n",
    "    val_accuracies.append(val_accuracy)\n",
    "\n",
    "    print(f'Epoch {epoch+1}/{num_epochs}')\n",
    "    print(f'Train Loss: {avg_train_loss:.4f}, Train Accuracy: {train_accuracy * 100:.2f}%')\n",
    "    print(f'Val Loss: {val_loss:.4f}, Val Accuracy: {val_accuracy * 100:.2f}%')\n",
    "\n",
    "    # Early stopping check\n",
    "    early_stopping(val_loss)\n",
    "    if early_stopping.early_stop:\n",
    "        print(\"Early stopping\")\n",
    "        break\n",
    "\n",
    "    # Adjust learning rate if validation loss plateaus\n",
    "    scheduler.step(val_loss)\n",
    "\n",
    "    # Clear GPU memory\n",
    "    torch.cuda.empty_cache()\n",
    "\n",
    "# After training, evaluate final performance\n",
    "train_loss, train_accuracy = evaluate(model, train_loader)\n",
    "test_loss, test_accuracy = evaluate(model, test_loader)\n",
    "\n",
    "print(f'Final Training Accuracy: {train_accuracy * 100:.2f}%')\n",
    "print(f'Final Test Accuracy: {test_accuracy * 100:.2f}%')\n"
   ]
  },
  {
   "cell_type": "code",
   "execution_count": 37,
   "id": "958eddbb-64c0-467e-a770-13c09d51c8c1",
   "metadata": {},
   "outputs": [],
   "source": [
    "# Save the model's state dictionary\n",
    "torch.save(model.state_dict(), 'fine_tuned_bert_model1.pth')"
   ]
  },
  {
   "cell_type": "code",
   "execution_count": null,
   "id": "e645b590-67d1-49df-a6cd-f15f930cfd88",
   "metadata": {},
   "outputs": [],
   "source": [
    "# Reload the model architecture\n",
    "model = BertForSequenceClassification.from_pretrained('bert-base-uncased', num_labels=7)\n",
    "\n",
    "# Load the state dictionary\n",
    "model.load_state_dict(torch.load('fine_tuned_bert_model.pth'))\n",
    "\n",
    "# Move the model to GPU if available\n",
    "device = torch.device('cuda' if torch.cuda.is_available() else 'cpu')\n",
    "model.to(device)"
   ]
  },
  {
   "cell_type": "markdown",
   "id": "f1ad4e5f-bdfe-4d45-b203-2eab96bfd4b9",
   "metadata": {},
   "source": [
    "## Decrease Learning Rate"
   ]
  },
  {
   "cell_type": "code",
   "execution_count": 39,
   "id": "7d872b36-e0cb-46b0-abf6-6b82132a2568",
   "metadata": {},
   "outputs": [
    {
     "name": "stderr",
     "output_type": "stream",
     "text": [
      "C:\\Users\\Betul\\anaconda3\\envs\\pytorch_env\\Lib\\site-packages\\torch\\optim\\lr_scheduler.py:60: UserWarning: The verbose parameter is deprecated. Please use get_last_lr() to access the learning rate.\n",
      "  warnings.warn(\n"
     ]
    },
    {
     "name": "stdout",
     "output_type": "stream",
     "text": [
      "Epoch 1/2\n",
      "Train Loss: 0.3331, Train Accuracy: 86.74%\n",
      "Val Loss: 0.4150, Val Accuracy: 83.19%\n",
      "Epoch 2/2\n",
      "Train Loss: 0.3170, Train Accuracy: 87.50%\n",
      "Val Loss: 0.4188, Val Accuracy: 83.07%\n",
      "Final Training Accuracy: 89.04%\n",
      "Final Test Accuracy: 83.07%\n"
     ]
    }
   ],
   "source": [
    "# Set model to training mode\n",
    "model.train()\n",
    "\n",
    "# Define optimizer with weight decay\n",
    "optimizer = torch.optim.AdamW(model.parameters(), lr=1e-6, weight_decay=0.01)\n",
    "# Define loss function\n",
    "loss_fn = torch.nn.CrossEntropyLoss()\n",
    "\n",
    "# Define learning rate scheduler (ReduceLROnPlateau)\n",
    "scheduler = ReduceLROnPlateau(optimizer, mode='min', factor=0.1, patience=2, min_lr=1e-7, verbose=True)\n",
    "\n",
    "# Instantiate EarlyStopping\n",
    "early_stopping = EarlyStopping(patience=2, min_delta=0.001)\n",
    "\n",
    "# Lists to store loss and accuracy values for each epoch\n",
    "train_losses = []\n",
    "val_losses = []\n",
    "train_accuracies = []\n",
    "val_accuracies = []\n",
    "\n",
    "# Fine-tuning loop with early stopping and learning rate scheduling\n",
    "num_epochs = 2\n",
    "for epoch in range(num_epochs):\n",
    "    model.train()\n",
    "    total_loss, total_correct, total_samples = 0, 0, 0\n",
    "    \n",
    "    for input_ids, attention_mask, labels in train_loader:\n",
    "        input_ids, attention_mask, labels = input_ids.to(device), attention_mask.to(device), labels.to(device)\n",
    "        \n",
    "        optimizer.zero_grad()\n",
    "        outputs = model(input_ids, attention_mask=attention_mask)\n",
    "        loss = loss_fn(outputs.logits, labels)\n",
    "        \n",
    "        loss.backward()\n",
    "        optimizer.step()\n",
    "        \n",
    "        total_loss += loss.item()\n",
    "        preds = torch.argmax(outputs.logits, dim=-1)\n",
    "        total_correct += (preds == labels).sum().item()\n",
    "        total_samples += labels.size(0)\n",
    "\n",
    "    avg_train_loss = total_loss / len(train_loader)\n",
    "    train_accuracy = total_correct / total_samples\n",
    "\n",
    "    # Append the training loss and accuracy\n",
    "    train_losses.append(avg_train_loss)\n",
    "    train_accuracies.append(train_accuracy)\n",
    "\n",
    "    # Evaluate on validation set\n",
    "    val_loss, val_accuracy = evaluate(model, test_loader)\n",
    "    val_losses.append(val_loss)\n",
    "    val_accuracies.append(val_accuracy)\n",
    "\n",
    "    print(f'Epoch {epoch+1}/{num_epochs}')\n",
    "    print(f'Train Loss: {avg_train_loss:.4f}, Train Accuracy: {train_accuracy * 100:.2f}%')\n",
    "    print(f'Val Loss: {val_loss:.4f}, Val Accuracy: {val_accuracy * 100:.2f}%')\n",
    "\n",
    "    # Early stopping check\n",
    "    early_stopping(val_loss)\n",
    "    if early_stopping.early_stop:\n",
    "        print(\"Early stopping\")\n",
    "        break\n",
    "\n",
    "    # Adjust learning rate if validation loss plateaus\n",
    "    scheduler.step(val_loss)\n",
    "\n",
    "    # Clear GPU memory\n",
    "    torch.cuda.empty_cache()\n",
    "\n",
    "# After training, evaluate final performance\n",
    "train_loss, train_accuracy = evaluate(model, train_loader)\n",
    "test_loss, test_accuracy = evaluate(model, test_loader)\n",
    "\n",
    "print(f'Final Training Accuracy: {train_accuracy * 100:.2f}%')\n",
    "print(f'Final Test Accuracy: {test_accuracy * 100:.2f}%')\n"
   ]
  },
  {
   "cell_type": "code",
   "execution_count": 41,
   "id": "92ecdeb0-0594-4e49-a4c3-e52cc31139e3",
   "metadata": {},
   "outputs": [],
   "source": [
    "# Save the model's state dictionary\n",
    "torch.save(model.state_dict(), 'fine_tuned_bert_model.pth')"
   ]
  },
  {
   "cell_type": "code",
   "execution_count": 43,
   "id": "3e7ed96f-959a-4624-968c-702a238e9a4e",
   "metadata": {},
   "outputs": [
    {
     "name": "stdout",
     "output_type": "stream",
     "text": [
      "Accuracy: 83.07%\n",
      "              precision    recall  f1-score   support\n",
      "\n",
      "           0       0.87      0.88      0.88       714\n",
      "           1       0.85      0.83      0.84       500\n",
      "           2       0.82      0.75      0.78      2971\n",
      "           3       0.95      0.96      0.95      2718\n",
      "           4       0.78      0.65      0.71       179\n",
      "           5       0.73      0.77      0.75       458\n",
      "           6       0.72      0.79      0.75      2110\n",
      "\n",
      "    accuracy                           0.83      9650\n",
      "   macro avg       0.82      0.80      0.81      9650\n",
      "weighted avg       0.83      0.83      0.83      9650\n",
      "\n"
     ]
    }
   ],
   "source": [
    "# Collect true labels and predictions\n",
    "y_true = []\n",
    "y_pred = []\n",
    "\n",
    "# Set the model to evaluation mode\n",
    "model.eval()\n",
    "\n",
    "# Disable gradient calculation\n",
    "with torch.no_grad():\n",
    "    for input_ids, attention_mask, labels in test_loader:\n",
    "        input_ids, attention_mask = input_ids.to(device), attention_mask.to(device)\n",
    "        labels = labels.to(device)\n",
    "        \n",
    "        outputs = model(input_ids, attention_mask=attention_mask)\n",
    "        preds = torch.argmax(outputs.logits, dim=-1)\n",
    "        \n",
    "        # Move predictions and labels back to CPU and convert to numpy arrays\n",
    "        y_true.extend(labels.cpu().numpy())\n",
    "        y_pred.extend(preds.cpu().numpy())\n",
    "\n",
    "# Compare y_pred and y_true\n",
    "print(f'Accuracy: {accuracy_score(y_true, y_pred) * 100:.2f}%')\n",
    "print(classification_report(y_true, y_pred))\n"
   ]
  },
  {
   "cell_type": "markdown",
   "id": "b5ccbc8d-9440-486d-8ba3-35bab57d62fd",
   "metadata": {},
   "source": [
    "## Cross Validation"
   ]
  },
  {
   "cell_type": "code",
   "execution_count": 76,
   "id": "8988085e-a4ee-42c0-b672-9d89f04d50a3",
   "metadata": {},
   "outputs": [
    {
     "name": "stdout",
     "output_type": "stream",
     "text": [
      "Fold 1/5\n"
     ]
    },
    {
     "name": "stderr",
     "output_type": "stream",
     "text": [
      "Some weights of BertForSequenceClassification were not initialized from the model checkpoint at bert-base-uncased and are newly initialized: ['classifier.bias', 'classifier.weight']\n",
      "You should probably TRAIN this model on a down-stream task to be able to use it for predictions and inference.\n",
      "C:\\Users\\Betul\\anaconda3\\envs\\pytorch_env\\Lib\\site-packages\\torch\\optim\\lr_scheduler.py:60: UserWarning: The verbose parameter is deprecated. Please use get_last_lr() to access the learning rate.\n",
      "  warnings.warn(\n"
     ]
    },
    {
     "name": "stdout",
     "output_type": "stream",
     "text": [
      "Epoch 1/4\n",
      "Train Loss: 0.7387, Train Accuracy: 72.02%\n",
      "Val Loss: 0.5018, Val Accuracy: 80.65%\n",
      "Epoch 2/4\n",
      "Train Loss: 0.4421, Train Accuracy: 82.37%\n",
      "Val Loss: 0.4535, Val Accuracy: 81.85%\n",
      "Reducing learning rate to 1e-6\n",
      "Epoch 3/4\n",
      "Train Loss: 0.3349, Train Accuracy: 86.74%\n",
      "Val Loss: 0.4424, Val Accuracy: 82.60%\n",
      "Epoch 4/4\n",
      "Train Loss: 0.3169, Train Accuracy: 87.56%\n",
      "Val Loss: 0.4424, Val Accuracy: 82.51%\n",
      "Fold 2/5\n"
     ]
    },
    {
     "name": "stderr",
     "output_type": "stream",
     "text": [
      "Some weights of BertForSequenceClassification were not initialized from the model checkpoint at bert-base-uncased and are newly initialized: ['classifier.bias', 'classifier.weight']\n",
      "You should probably TRAIN this model on a down-stream task to be able to use it for predictions and inference.\n"
     ]
    },
    {
     "name": "stdout",
     "output_type": "stream",
     "text": [
      "Epoch 1/4\n",
      "Train Loss: 0.7429, Train Accuracy: 71.74%\n",
      "Val Loss: 0.5008, Val Accuracy: 80.21%\n",
      "Epoch 2/4\n",
      "Train Loss: 0.4351, Train Accuracy: 82.73%\n",
      "Val Loss: 0.4500, Val Accuracy: 81.80%\n",
      "Reducing learning rate to 1e-6\n",
      "Epoch 3/4\n",
      "Train Loss: 0.3317, Train Accuracy: 86.97%\n",
      "Val Loss: 0.4380, Val Accuracy: 82.36%\n",
      "Epoch 4/4\n",
      "Train Loss: 0.3156, Train Accuracy: 87.67%\n",
      "Val Loss: 0.4442, Val Accuracy: 82.01%\n",
      "Fold 3/5\n"
     ]
    },
    {
     "name": "stderr",
     "output_type": "stream",
     "text": [
      "Some weights of BertForSequenceClassification were not initialized from the model checkpoint at bert-base-uncased and are newly initialized: ['classifier.bias', 'classifier.weight']\n",
      "You should probably TRAIN this model on a down-stream task to be able to use it for predictions and inference.\n"
     ]
    },
    {
     "name": "stdout",
     "output_type": "stream",
     "text": [
      "Epoch 1/4\n",
      "Train Loss: 0.7420, Train Accuracy: 71.94%\n",
      "Val Loss: 0.4981, Val Accuracy: 80.28%\n",
      "Epoch 2/4\n",
      "Train Loss: 0.4464, Train Accuracy: 82.13%\n",
      "Val Loss: 0.4650, Val Accuracy: 80.89%\n",
      "Reducing learning rate to 1e-6\n",
      "Epoch 3/4\n",
      "Train Loss: 0.3430, Train Accuracy: 86.44%\n",
      "Val Loss: 0.4371, Val Accuracy: 82.71%\n",
      "Epoch 4/4\n",
      "Train Loss: 0.3260, Train Accuracy: 87.11%\n",
      "Val Loss: 0.4397, Val Accuracy: 82.58%\n",
      "Fold 4/5\n"
     ]
    },
    {
     "name": "stderr",
     "output_type": "stream",
     "text": [
      "Some weights of BertForSequenceClassification were not initialized from the model checkpoint at bert-base-uncased and are newly initialized: ['classifier.bias', 'classifier.weight']\n",
      "You should probably TRAIN this model on a down-stream task to be able to use it for predictions and inference.\n"
     ]
    },
    {
     "name": "stdout",
     "output_type": "stream",
     "text": [
      "Epoch 1/4\n",
      "Train Loss: 0.7985, Train Accuracy: 69.55%\n",
      "Val Loss: 0.5091, Val Accuracy: 79.56%\n",
      "Epoch 2/4\n",
      "Train Loss: 0.4592, Train Accuracy: 81.87%\n",
      "Val Loss: 0.4535, Val Accuracy: 81.53%\n",
      "Reducing learning rate to 1e-6\n",
      "Epoch 3/4\n",
      "Train Loss: 0.3498, Train Accuracy: 86.39%\n",
      "Val Loss: 0.4349, Val Accuracy: 82.56%\n",
      "Epoch 4/4\n",
      "Train Loss: 0.3333, Train Accuracy: 86.79%\n",
      "Val Loss: 0.4365, Val Accuracy: 82.49%\n",
      "Fold 5/5\n"
     ]
    },
    {
     "name": "stderr",
     "output_type": "stream",
     "text": [
      "Some weights of BertForSequenceClassification were not initialized from the model checkpoint at bert-base-uncased and are newly initialized: ['classifier.bias', 'classifier.weight']\n",
      "You should probably TRAIN this model on a down-stream task to be able to use it for predictions and inference.\n"
     ]
    },
    {
     "name": "stdout",
     "output_type": "stream",
     "text": [
      "Epoch 1/4\n",
      "Train Loss: 0.7671, Train Accuracy: 70.95%\n",
      "Val Loss: 0.5528, Val Accuracy: 77.35%\n",
      "Epoch 2/4\n",
      "Train Loss: 0.4443, Train Accuracy: 82.42%\n",
      "Val Loss: 0.4619, Val Accuracy: 81.01%\n",
      "Reducing learning rate to 1e-6\n",
      "Epoch 3/4\n",
      "Train Loss: 0.3359, Train Accuracy: 86.88%\n",
      "Val Loss: 0.4418, Val Accuracy: 82.20%\n",
      "Epoch 4/4\n",
      "Train Loss: 0.3187, Train Accuracy: 87.53%\n",
      "Val Loss: 0.4426, Val Accuracy: 82.25%\n",
      "\n",
      "Cross-Validation Results:\n",
      "Average Training Loss: 0.3221\n",
      "Average Validation Loss: 0.4411\n",
      "Average Training Accuracy: 87.33%\n",
      "Average Validation Accuracy: 82.37%\n"
     ]
    }
   ],
   "source": [
    "# Number of folds for cross-validation\n",
    "k_folds = 5\n",
    "\n",
    "# Define KFold cross-validator\n",
    "kf = KFold(n_splits=k_folds, shuffle=True)\n",
    "\n",
    "# Track losses and accuracies for each fold\n",
    "fold_train_losses = []\n",
    "fold_val_losses = []\n",
    "fold_train_accuracies = []\n",
    "fold_val_accuracies = []\n",
    "\n",
    "# Define total epochs\n",
    "num_epochs = 4  # 2 epochs at lr=1e-5 and 2 epochs at lr=1e-6\n",
    "\n",
    "for fold, (train_idx, val_idx) in enumerate(kf.split(train_dataset)):\n",
    "    print(f'Fold {fold + 1}/{k_folds}')\n",
    "    \n",
    "    # Create data loaders for this fold\n",
    "    train_subset = Subset(train_dataset, train_idx)\n",
    "    val_subset = Subset(train_dataset, val_idx)\n",
    "    \n",
    "    train_loader = DataLoader(train_subset, batch_size=32, shuffle=True)\n",
    "    val_loader = DataLoader(val_subset, batch_size=32)\n",
    "    \n",
    "    # Load fresh pre-trained BERT model for each fold\n",
    "    model = BertForSequenceClassification.from_pretrained(model_name, num_labels=7)\n",
    "    model.config.hidden_dropout_prob = 0.3  # Ensure dropout is set\n",
    "    model.to(device)\n",
    "    \n",
    "    # Define optimizer with initial learning rate 1e-5\n",
    "    optimizer = torch.optim.AdamW(model.parameters(), lr=1e-5, weight_decay=0.01)\n",
    "    \n",
    "    # Define learning rate scheduler\n",
    "    scheduler = ReduceLROnPlateau(optimizer, mode='min', factor=0.1, patience=2, min_lr=1e-6, verbose=True)\n",
    "    \n",
    "    # Instantiate EarlyStopping\n",
    "    early_stopping = EarlyStopping(patience=2, min_delta=0.001)\n",
    "    \n",
    "    # Train for 2 epochs with learning rate 1e-5, then reduce to 1e-6 for next 2 epochs\n",
    "    for epoch in range(num_epochs):\n",
    "        model.train()\n",
    "        total_loss, total_correct, total_samples = 0, 0, 0\n",
    "        \n",
    "        for input_ids, attention_mask, labels in train_loader:\n",
    "            input_ids, attention_mask, labels = input_ids.to(device), attention_mask.to(device), labels.to(device)\n",
    "            \n",
    "            optimizer.zero_grad()\n",
    "            outputs = model(input_ids, attention_mask=attention_mask)\n",
    "            loss = loss_fn(outputs.logits, labels)\n",
    "            \n",
    "            loss.backward()\n",
    "            optimizer.step()\n",
    "            \n",
    "            total_loss += loss.item()\n",
    "            preds = torch.argmax(outputs.logits, dim=-1)\n",
    "            total_correct += (preds == labels).sum().item()\n",
    "            total_samples += labels.size(0)\n",
    "        \n",
    "        avg_train_loss = total_loss / len(train_loader)\n",
    "        train_accuracy = total_correct / total_samples\n",
    "\n",
    "        # Evaluate on validation set\n",
    "        val_loss, val_accuracy = evaluate(model, val_loader)\n",
    "\n",
    "        print(f'Epoch {epoch+1}/{num_epochs}')\n",
    "        print(f'Train Loss: {avg_train_loss:.4f}, Train Accuracy: {train_accuracy * 100:.2f}%')\n",
    "        print(f'Val Loss: {val_loss:.4f}, Val Accuracy: {val_accuracy * 100:.2f}%')\n",
    "\n",
    "        # Early stopping check\n",
    "        early_stopping(val_loss)\n",
    "        if early_stopping.early_stop:\n",
    "            print(\"Early stopping\")\n",
    "            break\n",
    "\n",
    "        # Adjust learning rate manually after 2 epochs\n",
    "        if epoch == 1:\n",
    "            print(\"Reducing learning rate to 1e-6\")\n",
    "            for param_group in optimizer.param_groups:\n",
    "                param_group['lr'] = 1e-6\n",
    "\n",
    "        # Clear GPU memory\n",
    "        torch.cuda.empty_cache()\n",
    "        \n",
    "    # Record metrics for this fold\n",
    "    fold_train_losses.append(avg_train_loss)\n",
    "    fold_val_losses.append(val_loss)\n",
    "    fold_train_accuracies.append(train_accuracy)\n",
    "    fold_val_accuracies.append(val_accuracy)\n",
    "\n",
    "# After cross-validation, calculate the average metrics\n",
    "print(\"\\nCross-Validation Results:\")\n",
    "print(f\"Average Training Loss: {np.mean(fold_train_losses):.4f}\")\n",
    "print(f\"Average Validation Loss: {np.mean(fold_val_losses):.4f}\")\n",
    "print(f\"Average Training Accuracy: {np.mean(fold_train_accuracies) * 100:.2f}%\")\n",
    "print(f\"Average Validation Accuracy: {np.mean(fold_val_accuracies) * 100:.2f}%\")\n"
   ]
  },
  {
   "cell_type": "code",
   "execution_count": 62,
   "id": "6b6e31ca-8984-4fe1-b412-0b525548bf32",
   "metadata": {},
   "outputs": [
    {
     "data": {
      "text/plain": [
       "[0.7984455958549223,\n",
       " 0.8145077720207254,\n",
       " 0.8266839378238342,\n",
       " 0.8244818652849741,\n",
       " 0.8244818652849741,\n",
       " 0.7927461139896373,\n",
       " 0.8132124352331607,\n",
       " 0.8200777202072539,\n",
       " 0.8217616580310881,\n",
       " 0.8217616580310881,\n",
       " 0.7905440414507772,\n",
       " 0.8194300518134715,\n",
       " 0.8264248704663213,\n",
       " 0.8244818652849741,\n",
       " 0.8244818652849741,\n",
       " 0.7848445595854923,\n",
       " 0.8125647668393783,\n",
       " 0.8235751295336787,\n",
       " 0.8269430051813471,\n",
       " 0.8269430051813471,\n",
       " 0.7994558880684026,\n",
       " 0.8191475579738308,\n",
       " 0.8258841818888457,\n",
       " 0.8284751910869284,\n",
       " 0.8284751910869284]"
      ]
     },
     "execution_count": 62,
     "metadata": {},
     "output_type": "execute_result"
    }
   ],
   "source": [
    "fold_val_accuracies"
   ]
  },
  {
   "cell_type": "code",
   "execution_count": null,
   "id": "6ac77964-c55e-41ce-b71b-a4359acab2a5",
   "metadata": {},
   "outputs": [],
   "source": []
  },
  {
   "cell_type": "markdown",
   "id": "ac1a2d8f-7281-430b-8352-3de5b7cb1a66",
   "metadata": {},
   "source": [
    "# Drop Personality Disorder and Stress, Combine Depression and Suicidal"
   ]
  },
  {
   "cell_type": "markdown",
   "id": "56c9ee80-8c2e-4a97-bd9f-841dd52b1334",
   "metadata": {},
   "source": [
    "Personality Disorder and Stress have a small number of instances in the dataset, so we will drop them. Depression and Suicidal share overlapping characteristics, so we will combine them into one class."
   ]
  },
  {
   "cell_type": "code",
   "execution_count": 64,
   "id": "5765cab6-9e67-49dd-9ce6-bbb8d3857de7",
   "metadata": {},
   "outputs": [
    {
     "name": "stdout",
     "output_type": "stream",
     "text": [
      "status_combined\n",
      "2    25406\n",
      "3    13590\n",
      "0     3571\n",
      "1     2501\n",
      "Name: count, dtype: int64\n"
     ]
    }
   ],
   "source": [
    "# Create a new dataframe to keep the original data intact\n",
    "data_modified2 = data.copy()\n",
    "\n",
    "# Combine class 0 and 5 into one class, and 2 and 6 into another class\n",
    "class_mapping = {\n",
    "    0: 0,  # Keep class 0 as it is\n",
    "    2: 2, 6: 2,  # Combine classes 2 and 6 into class 2\n",
    "    1: 1,        # Keep class 1 as it is\n",
    "    3: 3,        # Keep class 3 as it is\n",
    "    4: 4,         # Keep class 4 as it is for now\n",
    "    5:5    # Keep class 5 as it is for now\n",
    "}\n",
    "\n",
    "# Replace class labels in the new dataframe\n",
    "data_modified2['status_combined'] = data_modified2['status_encoded'].replace(class_mapping)\n",
    "\n",
    "# Drop rows where the class is 4,5 from the new dataframe\n",
    "data_filtered2 = data_modified2[(data_modified2['status_combined'] != 4) & (data_modified2['status_combined'] != 5)]\n",
    "\n",
    "# Print the distribution of the new classes\n",
    "print(data_filtered2['status_combined'].value_counts())"
   ]
  },
  {
   "cell_type": "code",
   "execution_count": 66,
   "id": "03d0a1fc-a794-4842-b272-44370b34cf92",
   "metadata": {},
   "outputs": [],
   "source": [
    "X_train4, X_test4, y_train4, y_test4 = train_test_split(data_filtered2['bert_clean'], data_filtered2['status_combined'], test_size=0.2, random_state=42,stratify = data_filtered2['status_combined'])"
   ]
  },
  {
   "cell_type": "markdown",
   "id": "fafaeec1-4c86-47ec-a68e-b963053e7e72",
   "metadata": {},
   "source": [
    "## Tokenize The Data"
   ]
  },
  {
   "cell_type": "code",
   "execution_count": 78,
   "id": "e5806a59-f6bc-4b1f-8de3-3f8d84470e28",
   "metadata": {},
   "outputs": [
    {
     "name": "stderr",
     "output_type": "stream",
     "text": [
      "C:\\Users\\Betul\\anaconda3\\envs\\pytorch_env\\Lib\\site-packages\\transformers\\tokenization_utils_base.py:1601: FutureWarning: `clean_up_tokenization_spaces` was not set. It will be set to `True` by default. This behavior will be depracted in transformers v4.45, and will be then set to `False` by default. For more details check this issue: https://github.com/huggingface/transformers/issues/31884\n",
      "  warnings.warn(\n"
     ]
    }
   ],
   "source": [
    "# Load the pre-trained BERT tokenizer\n",
    "tokenizer = BertTokenizer.from_pretrained('bert-base-uncased')\n",
    "\n",
    "# Tokenization function with long labels\n",
    "def tokenize_data(texts, labels, max_len=256):\n",
    "    inputs = tokenizer(\n",
    "        texts.tolist(),  # Convert to list if it's a pandas Series or NumPy array\n",
    "        padding=True, \n",
    "        truncation=True, \n",
    "        max_length=max_len, \n",
    "        return_tensors=\"pt\"\n",
    "    )\n",
    "    # Convert labels to long type\n",
    "    dataset = TensorDataset(inputs['input_ids'], inputs['attention_mask'], torch.tensor(labels.values, dtype=torch.long))\n",
    "    return dataset\n",
    "\n",
    "y_train4 = y_train4.astype(int)\n",
    "y_test4 = y_test4.astype(int)\n",
    "\n",
    "# Tokenize X_train and X_test\n",
    "train_dataset = tokenize_data(X_train4, y_train4)\n",
    "test_dataset = tokenize_data(X_test4, y_test4)\n",
    "\n",
    "# Create DataLoaders for batching\n",
    "train_loader = DataLoader(train_dataset, batch_size=32, shuffle=True)\n",
    "test_loader = DataLoader(test_dataset, batch_size=32, shuffle=False)\n"
   ]
  },
  {
   "cell_type": "markdown",
   "id": "237a5fac-2087-4db1-8201-027b6ea1e98c",
   "metadata": {},
   "source": [
    "## Bert Model Fine Tuning"
   ]
  },
  {
   "cell_type": "code",
   "execution_count": 79,
   "id": "f8569f7e-589a-4f83-8636-783dd8293b13",
   "metadata": {},
   "outputs": [
    {
     "name": "stderr",
     "output_type": "stream",
     "text": [
      "C:\\Users\\Betul\\anaconda3\\envs\\pytorch_env\\Lib\\site-packages\\transformers\\tokenization_utils_base.py:1601: FutureWarning: `clean_up_tokenization_spaces` was not set. It will be set to `True` by default. This behavior will be depracted in transformers v4.45, and will be then set to `False` by default. For more details check this issue: https://github.com/huggingface/transformers/issues/31884\n",
      "  warnings.warn(\n",
      "Some weights of BertForSequenceClassification were not initialized from the model checkpoint at bert-base-uncased and are newly initialized: ['classifier.bias', 'classifier.weight']\n",
      "You should probably TRAIN this model on a down-stream task to be able to use it for predictions and inference.\n",
      "C:\\Users\\Betul\\anaconda3\\envs\\pytorch_env\\Lib\\site-packages\\torch\\optim\\lr_scheduler.py:60: UserWarning: The verbose parameter is deprecated. Please use get_last_lr() to access the learning rate.\n",
      "  warnings.warn(\n"
     ]
    },
    {
     "name": "stdout",
     "output_type": "stream",
     "text": [
      "Epoch 1/4\n",
      "Train Loss: 0.2977, Train Accuracy: 90.42%\n",
      "Val Loss: 0.1432, Val Accuracy: 95.33%\n",
      "Epoch 2/4\n",
      "Train Loss: 0.1070, Train Accuracy: 96.61%\n",
      "Val Loss: 0.1227, Val Accuracy: 95.85%\n",
      "Reducing learning rate to 1e-6\n",
      "Epoch 3/4\n",
      "Train Loss: 0.0547, Train Accuracy: 98.35%\n",
      "Val Loss: 0.1124, Val Accuracy: 96.33%\n",
      "Epoch 4/4\n",
      "Train Loss: 0.0463, Train Accuracy: 98.70%\n",
      "Val Loss: 0.1157, Val Accuracy: 96.31%\n",
      "Final Training Accuracy: 99.05%\n",
      "Final Test Accuracy: 96.31%\n"
     ]
    }
   ],
   "source": [
    "# Define EarlyStopping class\n",
    "class EarlyStopping:\n",
    "    def __init__(self, patience=2, min_delta=0.001):\n",
    "        self.patience = patience\n",
    "        self.min_delta = min_delta\n",
    "        self.best_val_loss = None\n",
    "        self.counter = 0\n",
    "        self.early_stop = False\n",
    "\n",
    "    def __call__(self, val_loss):\n",
    "        if self.best_val_loss is None:\n",
    "            self.best_val_loss = val_loss\n",
    "        elif val_loss < self.best_val_loss - self.min_delta:\n",
    "            self.best_val_loss = val_loss\n",
    "            self.counter = 0  # Reset the counter if validation loss improves\n",
    "        else:\n",
    "            self.counter += 1\n",
    "            if self.counter >= self.patience:\n",
    "                self.early_stop = True  # Stop training if patience is exceeded\n",
    "\n",
    "# Function to evaluate model on a given dataset\n",
    "def evaluate(model, data_loader):\n",
    "    model.eval()  # Set the model to evaluation mode\n",
    "    total_loss, total_correct, total_samples = 0, 0, 0\n",
    "\n",
    "    with torch.no_grad():\n",
    "        for input_ids, attention_mask, labels in data_loader:\n",
    "            # Move inputs and labels to device\n",
    "            input_ids, attention_mask, labels = input_ids.to(device), attention_mask.to(device), labels.to(device)\n",
    "            \n",
    "            # Make predictions\n",
    "            outputs = model(input_ids, attention_mask=attention_mask)\n",
    "            loss = loss_fn(outputs.logits, labels)\n",
    "            \n",
    "            total_loss += loss.item()\n",
    "            preds = torch.argmax(outputs.logits, dim=-1)\n",
    "            total_correct += (preds == labels).sum().item()\n",
    "            total_samples += labels.size(0)\n",
    "\n",
    "    avg_loss = total_loss / len(data_loader)\n",
    "    accuracy = total_correct / total_samples\n",
    "    return avg_loss, accuracy\n",
    "\n",
    "\n",
    "# Load the pre-trained BERT model and tokenizer\n",
    "model_name = 'bert-base-uncased'\n",
    "tokenizer = BertTokenizer.from_pretrained(model_name)\n",
    "model = BertForSequenceClassification.from_pretrained(model_name, num_labels=7)\n",
    "model.config.hidden_dropout_prob = 0.3  # Ensure dropout is set\n",
    "\n",
    "# Move model to GPU if available\n",
    "device = torch.device('cuda' if torch.cuda.is_available() else 'cpu')\n",
    "model.to(device)\n",
    "\n",
    "# Set model to training mode\n",
    "model.train()\n",
    "\n",
    "# Define optimizer with weight decay\n",
    "optimizer = torch.optim.AdamW(model.parameters(), lr=1e-5, weight_decay=0.01)\n",
    "# Define loss function\n",
    "loss_fn = torch.nn.CrossEntropyLoss()\n",
    "\n",
    "# Define learning rate scheduler (ReduceLROnPlateau)\n",
    "scheduler = ReduceLROnPlateau(optimizer, mode='min', factor=0.1, patience=2, min_lr=1e-6, verbose=True)\n",
    "\n",
    "# Instantiate EarlyStopping\n",
    "early_stopping = EarlyStopping(patience=2, min_delta=0.001)\n",
    "\n",
    "# Lists to store loss and accuracy values for each epoch\n",
    "train_losses = []\n",
    "val_losses = []\n",
    "train_accuracies = []\n",
    "val_accuracies = []\n",
    "\n",
    "# Fine-tuning loop with early stopping and learning rate scheduling\n",
    "num_epochs = 4\n",
    "for epoch in range(num_epochs):\n",
    "    model.train()\n",
    "    total_loss, total_correct, total_samples = 0, 0, 0\n",
    "    \n",
    "    for input_ids, attention_mask, labels in train_loader:\n",
    "        input_ids, attention_mask, labels = input_ids.to(device), attention_mask.to(device), labels.to(device)\n",
    "        \n",
    "        optimizer.zero_grad()\n",
    "        outputs = model(input_ids, attention_mask=attention_mask)\n",
    "        loss = loss_fn(outputs.logits, labels)\n",
    "        \n",
    "        loss.backward()\n",
    "        optimizer.step()\n",
    "        \n",
    "        total_loss += loss.item()\n",
    "        preds = torch.argmax(outputs.logits, dim=-1)\n",
    "        total_correct += (preds == labels).sum().item()\n",
    "        total_samples += labels.size(0)\n",
    "\n",
    "    avg_train_loss = total_loss / len(train_loader)\n",
    "    train_accuracy = total_correct / total_samples\n",
    "\n",
    "    # Append the training loss and accuracy\n",
    "    train_losses.append(avg_train_loss)\n",
    "    train_accuracies.append(train_accuracy)\n",
    "\n",
    "    # Evaluate on validation set\n",
    "    val_loss, val_accuracy = evaluate(model, test_loader)\n",
    "    val_losses.append(val_loss)\n",
    "    val_accuracies.append(val_accuracy)\n",
    "\n",
    "    print(f'Epoch {epoch+1}/{num_epochs}')\n",
    "    print(f'Train Loss: {avg_train_loss:.4f}, Train Accuracy: {train_accuracy * 100:.2f}%')\n",
    "    print(f'Val Loss: {val_loss:.4f}, Val Accuracy: {val_accuracy * 100:.2f}%')\n",
    "\n",
    "    # Early stopping check\n",
    "    early_stopping(val_loss)\n",
    "    if early_stopping.early_stop:\n",
    "        print(\"Early stopping\")\n",
    "        break\n",
    "\n",
    "    # Adjust learning rate manually after 2 epochs\n",
    "    if epoch == 1:\n",
    "        print(\"Reducing learning rate to 1e-6\")\n",
    "        for param_group in optimizer.param_groups:\n",
    "            param_group['lr'] = 1e-6\n",
    "                \n",
    "    # Adjust learning rate if validation loss plateaus\n",
    "    scheduler.step(val_loss)\n",
    "\n",
    "    # Clear GPU memory\n",
    "    torch.cuda.empty_cache()\n",
    "\n",
    "# After training, evaluate final performance\n",
    "train_loss, train_accuracy = evaluate(model, train_loader)\n",
    "test_loss, test_accuracy = evaluate(model, test_loader)\n",
    "\n",
    "print(f'Final Training Accuracy: {train_accuracy * 100:.2f}%')\n",
    "print(f'Final Test Accuracy: {test_accuracy * 100:.2f}%')\n"
   ]
  },
  {
   "cell_type": "markdown",
   "id": "f221217e-439f-46ba-beda-adb73edbe105",
   "metadata": {},
   "source": [
    "With combined classes the accuracy increases to 96%."
   ]
  },
  {
   "cell_type": "markdown",
   "id": "90d91a42-f778-4f3e-af5c-adacacf8a317",
   "metadata": {},
   "source": [
    "## Training Time"
   ]
  },
  {
   "cell_type": "markdown",
   "id": "d3e88368-0e71-41bd-9369-49581a879f72",
   "metadata": {},
   "source": [
    "Fine Tuning time of Bert Model is around 15-25 minutes with GPU."
   ]
  },
  {
   "cell_type": "code",
   "execution_count": null,
   "id": "e0f6ad59-d331-4a97-96d0-3ba141acc43f",
   "metadata": {},
   "outputs": [],
   "source": []
  }
 ],
 "metadata": {
  "kernelspec": {
   "display_name": "Python (pytorch_env)",
   "language": "python",
   "name": "pytorch_env"
  },
  "language_info": {
   "codemirror_mode": {
    "name": "ipython",
    "version": 3
   },
   "file_extension": ".py",
   "mimetype": "text/x-python",
   "name": "python",
   "nbconvert_exporter": "python",
   "pygments_lexer": "ipython3",
   "version": "3.11.9"
  }
 },
 "nbformat": 4,
 "nbformat_minor": 5
}
